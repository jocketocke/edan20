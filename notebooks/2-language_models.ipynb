{
 "cells": [
  {
   "cell_type": "markdown",
   "metadata": {},
   "source": [
    "# Assignment #2: Language models\n",
    "Author: Pierre Nugues"
   ]
  },
  {
   "cell_type": "markdown",
   "metadata": {},
   "source": [
    "## Objectives"
   ]
  },
  {
   "cell_type": "markdown",
   "metadata": {},
   "source": [
    "The objectives of this assignment are to:\n",
    "* Write a program to find n-gram statistics\n",
    "* Compute the probability of a sentence\n",
    "* Know what a language model is\n",
    "* Write a short report of 1 to 2 pages on the assignment"
   ]
  },
  {
   "cell_type": "markdown",
   "metadata": {},
   "source": [
    "## Submission"
   ]
  },
  {
   "cell_type": "markdown",
   "metadata": {},
   "source": [
    "Once you have written all the missing code and run all the cells, you will submit your notebook to an automatic marking system. Do not erase the content of the cells as we will possibly check your programs manually.\n",
    "The submission instructions are at the bottom of the notebook."
   ]
  },
  {
   "cell_type": "markdown",
   "metadata": {},
   "source": [
    "## Organization"
   ]
  },
  {
   "cell_type": "markdown",
   "metadata": {},
   "source": [
    "* Each group will have to write Python programs to count unigrams, bigrams, and trigrams in a corpus of approximately one million words and to determine the probability of a sentence.\n",
    "* You can test you regular expression using the regex101.com site\n",
    "* Each student will have to write a short report of one to two pages and comment briefly the results. In your report, you must produce the tabulated results of your analysis as described below."
   ]
  },
  {
   "cell_type": "markdown",
   "metadata": {},
   "source": [
    "## Programming"
   ]
  },
  {
   "cell_type": "markdown",
   "metadata": {},
   "source": [
    "### Imports"
   ]
  },
  {
   "cell_type": "markdown",
   "metadata": {},
   "source": [
    "Some imports you may need. Add others as needed."
   ]
  },
  {
   "cell_type": "code",
   "execution_count": 48,
   "metadata": {},
   "outputs": [],
   "source": [
    "import bz2\n",
    "import math\n",
    "import os\n",
    "import regex as re\n",
    "import requests\n",
    "import sys\n",
    "from zipfile import ZipFile"
   ]
  },
  {
   "cell_type": "markdown",
   "metadata": {},
   "source": [
    "### Collecting and analyzing a corpus"
   ]
  },
  {
   "cell_type": "markdown",
   "metadata": {},
   "source": [
    "Retrieve a corpus of novels by Selma Lagerl&ouml;f from this URL:\n",
    "<a href=\"https://github.com/pnugues/ilppp/blob/master/programs/corpus/Selma.txt\">\n",
    "    <tt>https://github.com/pnugues/ilppp/blob/master/programs/corpus/Selma.txt</tt>\n",
    "</a>. The text of these novels was extracted\n",
    "from <a href=\"https://litteraturbanken.se/forfattare/LagerlofS/titlar\">Lagerlöf arkivet</a> at\n",
    "<a href=\"https://litteraturbanken.se/\">Litteraturbanken</a>."
   ]
  },
  {
   "cell_type": "code",
   "execution_count": 49,
   "metadata": {},
   "outputs": [],
   "source": [
    "# You may have to adjust the path\n",
    "corpus = open('Selma.txt', encoding='utf8').read()"
   ]
  },
  {
   "cell_type": "markdown",
   "metadata": {},
   "source": [
    "Run the <a href=\"https://github.com/pnugues/ilppp/tree/master/programs/ch02/python\">concordance\n",
    "program </a> to print the lines containing a specific word, for instance <i>Nils</i>."
   ]
  },
  {
   "cell_type": "code",
   "execution_count": 50,
   "metadata": {},
   "outputs": [],
   "source": [
    "pattern = 'Nils Holgersson'\n",
    "width = 25"
   ]
  },
  {
   "cell_type": "code",
   "execution_count": 51,
   "metadata": {},
   "outputs": [
    {
     "name": "stdout",
     "output_type": "stream",
     "text": [
      "Selma Lagerlöf Nils Holgerssons underbara resa genom Sv\n",
      "! Se på Tummetott! Se på Nils Holgersson Tummetott!» Genast vände\n",
      "r,» sade han. »Jag heter Nils Holgersson och är son till en husma\n",
      "lden. »Inte är det värt, Nils Holgersson, att du är ängslig eller\n",
      " i dem. På den tiden, då Nils Holgersson drog omkring med vildgäs\n",
      "ulle allt visa honom vad Nils Holgersson från Västra Vemmenhög va\n",
      "om ägde rum det året, då Nils Holgersson for omkring med vildgäss\n",
      "m vad det kan kosta dem. Nils Holgersson hade inte haft förstånd \n",
      "de det inte mer sägas om Nils Holgersson, att han inte tyckte om \n",
      " Rosenbom?» För där stod Nils Holgersson mitt uppe på Rosenboms n\n",
      " Med ens fingo de syn på Nils Holgersson, och då sköt den store v\n",
      "vila. När vildgässen och Nils Holgersson äntligen hade letat sig \n",
      " slags arbetare. Men vad Nils Holgersson inte såg, det var, att s\n",
      "nde han fråga, och om då Nils Holgersson sade nej, började han ge\n",
      "de lille Mats, och om nu Nils Holgersson också hade tegat, så had\n",
      "åg så försmädlig ut, att Nils Holgersson kastade sig över honom f\n",
      " brodern. Och inte ville Nils Holgersson slåss med en tös, utan h\n",
      "örkar. På den tiden, när Nils Holgersson for omkring med vildgäss\n",
      " ryckte omkull honom. Om Nils Holgersson genast hade ropat på hjä\n",
      "u reda dig på egen hand, Nils Holgersson,» sade han då till sig s\n",
      "r satte Fumle-Drumle ner Nils Holgersson på bottnen av en sandgro\n",
      "mlingarna. – »Jo, jag är Nils Holgersson från Västra Vemmenhög, s\n",
      "rakten. På den tiden, då Nils Holgersson for omkring med vildgäss\n",
      "Jo, det står – Det står: Nils Holgersson fr. V. Vemmenhög.» »Det \n",
      "visan 1 Sveriges karta 2 Nils Holgerssons underbara resa genom Sv\n",
      "admalsvåden 233 ________ Nils Holgerssons underbara resa genom Sv\n",
      "R. Tolv år ungefär innan Nils Holgersson hade börjat resa omkring\n",
      "och leta efter föda, men Nils Holgersson hade på morgonen tappat \n",
      "ill i Närke det året, då Nils Holgersson for fram över landskapet\n",
      "hade flyttat tassen över Nils Holgerssons ansikte, så att den sta\n",
      "29 april. Denna dag fick Nils Holgersson se södra Dalarna. Vildgä\n",
      "rliga sjön. Det året, då Nils Holgersson for med vildgässen genom\n",
      "t skänka upptäckten till Nils Holgersson. Det var ju både det tro\n",
      " som sången varade, stod Nils Holgersson och lyssnade till den, m\n",
      "ova på en vassrugge. Vad Nils Holgersson angår, så var han för hu\n",
      "e svårt för en sådan som Nils Holgersson att finna en farkost. Ha\n",
      "r de hade kommit mittför Nils Holgersson, slogo de sig ner på ett\n",
      " 5 maj. På den tiden, då Nils Holgersson drog genom landet med vi\n",
      "an vara bra lycklig. Att Nils Holgersson, som för ett par timmar \n",
      " afton. Och således hade Nils Holgersson fått se studenterna, när\n",
      "nger under marschen. Men Nils Holgersson hade tyckt, att det inte\n",
      "och glädja så som dessa. Nils Holgersson hade mest sett på studen\n",
      "m, stannade han. »Jag är Nils Holgersson från Västra Vemmenhög,» \n",
      " Ett par år före det, då Nils Holgersson drog omkring med vildgäs\n",
      " detsamma fattade han om Nils Holgersson med sin stora fot, höjde\n",
      "t ingen mer än den lilla Nils Holgersson, som följde henne. Solen\n",
      " voro klädda med is, och Nils Holgersson ville följa henne dit in\n",
      "t Lappland är mitt!» Men Nils Holgersson hade blivit så ängslig, \n",
      " över klippväggarna, och Nils Holgersson kunde förstå, att det va\n",
      " SJUKDOMEN. Det året, då Nils Holgersson for omkring med vildgäss\n",
      "jligt att undgå den. Vad Nils Holgersson beträffar, så hade han h\n",
      "hade hon slagit klorna i Nils Holgerssons skuldra och hackade eft\n",
      "g, att just det året, då Nils Holgersson for omkring med vildgäss\n",
      " lönt att vara bedrövad, Nils Holgersson,» sade solen. »Världen ä\n",
      "åga om han inte kunde ge Nils Holgersson bättre villkor. ’Det öns\n",
      "du vill,’ sade han. ’Med Nils Holgersson blir det ändå så, som ja\n",
      "a haft av honom. Ja, säg Nils Holgersson, att föräldrarna redan h\n",
      "Västergötland. Den lille Nils Holgersson hade krupit upp på en la\n",
      " honom sämre.» Den lille Nils Holgersson hade följt med barnen he\n",
      "e bara störa.» Då tyckte Nils Holgersson, att när ingen annan gjo\n",
      "n färdig att följa det.» Nils Holgersson sprang raskt neråt vägen\n",
      "rott mellan de unga. Vad Nils Holgersson beträffar, så hade han i\n",
      "on gav sig tid att se på Nils Holgersson, innan hon stötte till. \n",
      " ändå alldeles olik. Den Nils Holgersson, som hade farit bort i v\n",
      " tro det. Välkommen hem, Nils Holgersson, välkommen hem! Det här \n",
      "mig här på gården,» sade Nils Holgersson. »Min egen mor tror, att\n",
      "on riktig sjukdom,» sade Nils Holgersson. »Jag får försöka ställa\n",
      "in kniv här på din hov?» Nils Holgersson var nätt och jämnt färdi\n",
      "sslingen, som var så lik Nils Holgersson, att om det inte var han\n",
      "pojken fanns i närheten. Nils Holgersson hörde honom nog, men han\n",
      "ottrar ihop ett tack för Nils Holgersson? Vad skulle det ha blivi\n"
     ]
    }
   ],
   "source": [
    "# spaces match tabs and newlines\n",
    "pattern = re.sub(' ', '\\\\s+', pattern)\n",
    "# Replaces newlines with spaces in the text\n",
    "clean_corpus = re.sub('\\s+', ' ', corpus)\n",
    "concordance = ('(.{{0,{width}}}{pattern}.{{0,{width}}})'\n",
    "               .format(pattern=pattern, width=width))\n",
    "for match in re.finditer(concordance, clean_corpus):\n",
    "    print(match.group(1))\n",
    "# print the string with 0..width characters on either side"
   ]
  },
  {
   "cell_type": "markdown",
   "metadata": {},
   "source": [
    "Run a simple <a href=\"https://github.com/pnugues/ilppp/tree/master/programs/ch05/python\">tokenization\n",
    "program</a> on your corpus."
   ]
  },
  {
   "cell_type": "code",
   "execution_count": 52,
   "metadata": {},
   "outputs": [],
   "source": [
    "def tokenize(text):\n",
    "    words = re.findall('\\p{L}+', text)\n",
    "    return words"
   ]
  },
  {
   "cell_type": "code",
   "execution_count": 53,
   "metadata": {},
   "outputs": [
    {
     "data": {
      "text/plain": [
       "['Selma',\n",
       " 'Lagerlöf',\n",
       " 'Nils',\n",
       " 'Holgerssons',\n",
       " 'underbara',\n",
       " 'resa',\n",
       " 'genom',\n",
       " 'Sverige',\n",
       " 'Första',\n",
       " 'bandet']"
      ]
     },
     "execution_count": 53,
     "metadata": {},
     "output_type": "execute_result"
    }
   ],
   "source": [
    "words = tokenize(corpus)\n",
    "words[:10]"
   ]
  },
  {
   "cell_type": "code",
   "execution_count": 54,
   "metadata": {},
   "outputs": [],
   "source": [
    "def unigrams(words):\n",
    "    frequency = {}\n",
    "    for i in range(len(words)):\n",
    "        if words[i] in frequency:\n",
    "            frequency[words[i]] += 1\n",
    "        else:\n",
    "            frequency[words[i]] = 1\n",
    "    return frequency\n"
   ]
  },
  {
   "cell_type": "code",
   "execution_count": 55,
   "metadata": {},
   "outputs": [],
   "source": [
    "wc = unigrams(tokenize(corpus.lower()))"
   ]
  },
  {
   "cell_type": "code",
   "execution_count": 56,
   "metadata": {},
   "outputs": [
    {
     "data": {
      "text/plain": [
       "11624"
      ]
     },
     "execution_count": 56,
     "metadata": {},
     "output_type": "execute_result"
    }
   ],
   "source": [
    "wc[\"den\"]"
   ]
  },
  {
   "cell_type": "markdown",
   "metadata": {},
   "source": [
    "Count the number of unique words in the original corpus and when setting all the words in lowercase"
   ]
  },
  {
   "cell_type": "markdown",
   "metadata": {},
   "source": [
    "Original text"
   ]
  },
  {
   "cell_type": "code",
   "execution_count": 57,
   "metadata": {},
   "outputs": [
    {
     "data": {
      "text/plain": [
       "44256"
      ]
     },
     "execution_count": 57,
     "metadata": {},
     "output_type": "execute_result"
    }
   ],
   "source": [
    "def count():\n",
    "    wordlist = tokenize(corpus)\n",
    "    return len(set(wordlist))\n",
    "count()\n",
    "#44256"
   ]
  },
  {
   "cell_type": "markdown",
   "metadata": {},
   "source": [
    "Lowercased text"
   ]
  },
  {
   "cell_type": "code",
   "execution_count": 58,
   "metadata": {},
   "outputs": [
    {
     "data": {
      "text/plain": [
       "41032"
      ]
     },
     "execution_count": 58,
     "metadata": {},
     "output_type": "execute_result"
    }
   ],
   "source": [
    "def count_lower():\n",
    "    lower_word_list = tokenize(corpus.lower())\n",
    "    return len(set(lower_word_list))\n",
    "count_lower()\n",
    "#41032"
   ]
  },
  {
   "cell_type": "markdown",
   "metadata": {},
   "source": [
    "### Segmenting a corpus"
   ]
  },
  {
   "cell_type": "markdown",
   "metadata": {},
   "source": [
    "You will write a program to tokenize your text, insert `<s>` and `</s>` tags to delimit sentences, and set all the words in lowercase letters. In the end, you will only keep the words."
   ]
  },
  {
   "cell_type": "markdown",
   "metadata": {},
   "source": [
    "#### Normalizing "
   ]
  },
  {
   "cell_type": "markdown",
   "metadata": {},
   "source": [
    "Write a regular expression that matches all the characters that are neither a letter nor a punctuation sign. The punctuations signs will be the followings: `.;:?!`. In your regex, use the same order. For the definition of a letter, use a Unicode regex. You will call the regex string `nonletter`"
   ]
  },
  {
   "cell_type": "code",
   "execution_count": 59,
   "metadata": {},
   "outputs": [],
   "source": [
    "#regex = re.compile(\"[^\\.+ | \\!+ | \\?+ | \\:+ | \\;+ | \\p{L}+]\")\n",
    "regex = re.compile(\"[^\\P{P}\\.\\?!]\")\n",
    "nonletter = regex"
   ]
  },
  {
   "cell_type": "markdown",
   "metadata": {},
   "source": [
    "Write a `clean()` function that replaces all the characters that are neither a letter nor a punctuation sign with a space. The punctuations signs will be the followings: `.;:?!`.   For the sentence:\n",
    "\n",
    "_En gång hade de på Mårbacka en barnpiga, som hette Back-Kajsa._\n",
    "\n",
    "the result will be:\n",
    "\n",
    "`En gång hade de på Mårbacka en barnpiga som hette Back Kajsa.`"
   ]
  },
  {
   "cell_type": "code",
   "execution_count": 60,
   "metadata": {},
   "outputs": [],
   "source": [
    "def clean(words):\n",
    "    tmp = re.sub(nonletter, \" \", words)\n",
    "    return re.sub(r\"\\s\\s+\", \" \", tmp) # Removes double space"
   ]
  },
  {
   "cell_type": "code",
   "execution_count": 61,
   "metadata": {},
   "outputs": [],
   "source": [
    "test_para = 'En gång hade de på Mårbacka en barnpiga, som hette Back-Kajsa. \\\n",
    "Hon var nog sina tre alnar lång, hon hade ett stort, grovt ansikte med stränga, mörka drag, \\\n",
    "hennes händer voro hårda och fulla av sprickor, som barnens hår fastnade i, \\\n",
    "när hon kammade dem, och till humöret var hon dyster och sorgbunden.'"
   ]
  },
  {
   "cell_type": "code",
   "execution_count": 62,
   "metadata": {},
   "outputs": [
    {
     "data": {
      "text/plain": [
       "'En gång hade de på Mårbacka en barnpiga som hette Back Kajsa. Hon var nog sina tre alnar lång hon hade ett stort grovt ansikte med stränga mörka drag hennes händer voro hårda och fulla av sprickor som barnens hår fastnade i när hon kammade dem och till humöret var hon dyster och sorgbunden.'"
      ]
     },
     "execution_count": 62,
     "metadata": {},
     "output_type": "execute_result"
    }
   ],
   "source": [
    "tmp = clean(test_para)\n",
    "#re.findall(nonletter, test_para)\n",
    "tmp"
   ]
  },
  {
   "cell_type": "markdown",
   "metadata": {},
   "source": [
    "#### Segmenter"
   ]
  },
  {
   "cell_type": "markdown",
   "metadata": {},
   "source": [
    "In this section, you will write a sentence segmenter that will delimit each sentence with `</s>` and `<s>` symbols. For example the sentence:\n",
    "\n",
    "_En gång hade de på Mårbacka en barnpiga, som hette Back-Kajsa._\n",
    "\n",
    "will be bracketed as:\n",
    "\n",
    "`<s> En gång hade de på Mårbacka en barnpiga som hette Back-Kajsa </s>`\n",
    "\n",
    "As algorithm, you will use a simple heuristics to detect the sentence boundaries: A sentence starts with a capital letter and ends with a period-equivalent punctuation sign. You will write a regex to match these boundaries with a regular expression and you will insert `</s>\\n<s>` symbols with a substitution function."
   ]
  },
  {
   "cell_type": "markdown",
   "metadata": {},
   "source": [
    "##### Detecting sentence boundaries"
   ]
  },
  {
   "cell_type": "markdown",
   "metadata": {},
   "source": [
    "Write a regular expression that matches a punctuation, a sequence of spaces, and an uppercase letter. Call this regex string `sentence_boundaries`. In the regex, you will remember the value of the uppercase letter using a backreference. Use the Unicode regexes for the letters and the spaces."
   ]
  },
  {
   "cell_type": "code",
   "execution_count": 63,
   "metadata": {},
   "outputs": [
    {
     "name": "stdout",
     "output_type": "stream",
     "text": [
      "[('E', '.'), ('H', '.')]\n",
      "[('En gång hade de på Mårbacka en barnpiga, som hette Back-Kajsa.', 'E', '.'), ('Hon var nog sina tre alnar lång, hon hade ett stort, grovt ansikte med stränga, mörka drag, hennes händer voro hårda och fulla av sprickor, som barnens hår fastnade i, när hon kammade dem, och till humöret var hon dyster och sorgbunden.', 'H', '.')]\n"
     ]
    },
    {
     "data": {
      "text/plain": [
       "[('En gång hade de på Mårbacka en barnpiga, som hette Back-Kajsa', 'E'),\n",
       " ('Hon var nog sina tre alnar lång, hon hade ett stort, grovt ansikte med stränga, mörka drag, hennes händer voro hårda och fulla av sprickor, som barnens hår fastnade i, när hon kammade dem, och till humöret var hon dyster och sorgbunden',\n",
       "  'H')]"
      ]
     },
     "execution_count": 63,
     "metadata": {},
     "output_type": "execute_result"
    }
   ],
   "source": [
    "ex1 = re.findall(r\"(\\p{Lu}).+?([.?!;:])\", test_para)\n",
    "\n",
    "ex2 = re.findall(r\"((\\p{Lu}).+?([.?!;:]))\", test_para)\n",
    "\n",
    "print(ex1)\n",
    "print(ex2)\n",
    "\n",
    "sentence_boundries = r\"((\\p{Lu}).+?)[.?!;:]\"\n",
    "re.findall(sentence_boundries, test_para)"
   ]
  },
  {
   "cell_type": "markdown",
   "metadata": {},
   "source": [
    "##### Replacement markup"
   ]
  },
  {
   "cell_type": "markdown",
   "metadata": {},
   "source": [
    "Write a string to replace the matched boundaries with the sentence boundary markup. Remember that a sentence ends with `</s>` and starts with `<s>` and that there is one sentence per line. Hint: The markup is `</s>\\n<s>`. Remember also that the first letter of your sentence is in a regex backreference. Call the regex string `sentence_markup`."
   ]
  },
  {
   "cell_type": "code",
   "execution_count": 64,
   "metadata": {},
   "outputs": [
    {
     "name": "stdout",
     "output_type": "stream",
     "text": [
      "\\1 </s>\\n<s>\n"
     ]
    }
   ],
   "source": [
    "sentence_markup = r\"\\1 </s>\\n<s>\"\n",
    "print(sentence_markup)"
   ]
  },
  {
   "cell_type": "markdown",
   "metadata": {},
   "source": [
    "##### Applying the substitution"
   ]
  },
  {
   "cell_type": "markdown",
   "metadata": {},
   "source": [
    "Use your regexes to segment your text. Use the string `sentence_boundaries`, `sentence_markup`, and `test_para` as input and `text` as output."
   ]
  },
  {
   "cell_type": "code",
   "execution_count": 65,
   "metadata": {},
   "outputs": [
    {
     "name": "stdout",
     "output_type": "stream",
     "text": [
      "En gång hade de på Mårbacka en barnpiga som hette Back Kajsa </s>\n",
      "<s> Hon var nog sina tre alnar lång hon hade ett stort grovt ansikte med stränga mörka drag hennes händer voro hårda och fulla av sprickor som barnens hår fastnade i när hon kammade dem och till humöret var hon dyster och sorgbunden </s>\n",
      "<s>\n"
     ]
    }
   ],
   "source": [
    "# Write your code here\n",
    "text = re.sub(sentence_boundries, sentence_markup, clean(test_para))\n",
    "print(text)"
   ]
  },
  {
   "cell_type": "code",
   "execution_count": 66,
   "metadata": {},
   "outputs": [
    {
     "name": "stdout",
     "output_type": "stream",
     "text": [
      "En gång hade de på Mårbacka en barnpiga som hette Back Kajsa </s>\n",
      "<s> Hon var nog sina tre alnar lång hon hade ett stort grovt ansikte med stränga mörka drag hennes händer voro hårda och fulla av sprickor som barnens hår fastnade i när hon kammade dem och till humöret var hon dyster och sorgbunden </s>\n",
      "<s>\n"
     ]
    }
   ],
   "source": [
    "print(text)"
   ]
  },
  {
   "cell_type": "markdown",
   "metadata": {},
   "source": [
    "Insert markup codes in the beginning and end of the text"
   ]
  },
  {
   "cell_type": "code",
   "execution_count": 67,
   "metadata": {},
   "outputs": [
    {
     "name": "stdout",
     "output_type": "stream",
     "text": [
      "<s> En gång hade de på Mårbacka en barnpiga som hette Back Kajsa </s>\n",
      "<s> Hon var nog sina tre alnar lång hon hade ett stort grovt ansikte med stränga mörka drag hennes händer voro hårda och fulla av sprickor som barnens hår fastnade i när hon kammade dem och till humöret var hon dyster och sorgbunden </s>\n",
      "\n"
     ]
    }
   ],
   "source": [
    "# Write your code here\n",
    "new_markup = r\"<s> \\1 </s>\\n\"\n",
    "text = re.sub(sentence_boundries, new_markup, clean(test_para))\n",
    "text = re.sub(\" <s>\",\"<s>\", text)\n",
    "print(text)\n"
   ]
  },
  {
   "cell_type": "code",
   "execution_count": 68,
   "metadata": {},
   "outputs": [
    {
     "name": "stdout",
     "output_type": "stream",
     "text": [
      "<s> En gång hade de på Mårbacka en barnpiga som hette Back Kajsa </s>\n",
      "<s> Hon var nog sina tre alnar lång hon hade ett stort grovt ansikte med stränga mörka drag hennes händer voro hårda och fulla av sprickor som barnens hår fastnade i när hon kammade dem och till humöret var hon dyster och sorgbunden </s>\n",
      "\n"
     ]
    }
   ],
   "source": [
    "print(text)"
   ]
  },
  {
   "cell_type": "markdown",
   "metadata": {},
   "source": [
    "Replace the space duplicates with one space and remove the punctuation signs. For the spaces, use the Unicode regex."
   ]
  },
  {
   "cell_type": "code",
   "execution_count": 69,
   "metadata": {},
   "outputs": [
    {
     "name": "stdout",
     "output_type": "stream",
     "text": [
      "<s> En gång hade de på Mårbacka en barnpiga som hette Back Kajsa </s>\n",
      " <s> Hon var nog sina tre alnar lång hon hade ett stort grovt ansikte med stränga mörka drag hennes händer voro hårda och fulla av sprickor som barnens hår fastnade i när hon kammade dem och till humöret var hon dyster och sorgbunden </s>\n",
      "\n"
     ]
    }
   ],
   "source": [
    "new_markup = r\"<s> \\1 </s>\\n\"\n",
    "text = re.sub(sentence_boundries, new_markup, clean(test_para))\n",
    "text = re.sub(r\"[^\\S\\r\\n]+\", \" \", text) #Remove the spaces but not the newlines\n",
    "print(text)"
   ]
  },
  {
   "cell_type": "code",
   "execution_count": 70,
   "metadata": {},
   "outputs": [
    {
     "name": "stdout",
     "output_type": "stream",
     "text": [
      "<s> En gång hade de på Mårbacka en barnpiga som hette Back Kajsa </s>\n",
      " <s> Hon var nog sina tre alnar lång hon hade ett stort grovt ansikte med stränga mörka drag hennes händer voro hårda och fulla av sprickor som barnens hår fastnade i när hon kammade dem och till humöret var hon dyster och sorgbunden </s>\n",
      "\n"
     ]
    }
   ],
   "source": [
    "print(text)"
   ]
  },
  {
   "cell_type": "markdown",
   "metadata": {},
   "source": [
    "Write a `segment_sentences(text)` function to gather the code in the Segmenter section and set the text in lowercase"
   ]
  },
  {
   "cell_type": "code",
   "execution_count": 71,
   "metadata": {},
   "outputs": [
    {
     "name": "stdout",
     "output_type": "stream",
     "text": [
      "<s> en gång hade de på mårbacka en barnpiga som hette back kajsa </s> <s> hon var nog sina tre alnar lång hon hade ett stort grovt ansikte med stränga mörka drag hennes händer voro hårda och fulla av sprickor som barnens hår fastnade i när hon kammade dem och till humöret var hon dyster och sorgbunden </s> \n"
     ]
    }
   ],
   "source": [
    "# Write your code here\n",
    "def segment_sentences(text):\n",
    "    markup = r\"<s> \\1 </s> \\n\"\n",
    "    tmp = re.sub(sentence_boundries, markup, clean(text))\n",
    "    tmp = re.sub(r\"\\s\\s+\", \" \", tmp) #Removes double spaces and newlines\n",
    "    tmp = tmp.lower()\n",
    "    return tmp\n",
    "print(segment_sentences(test_para))"
   ]
  },
  {
   "cell_type": "code",
   "execution_count": 72,
   "metadata": {},
   "outputs": [
    {
     "name": "stdout",
     "output_type": "stream",
     "text": [
      "<s> en gång hade de på mårbacka en barnpiga som hette back kajsa </s> <s> hon var nog sina tre alnar lång hon hade ett stort grovt ansikte med stränga mörka drag hennes händer voro hårda och fulla av sprickor som barnens hår fastnade i när hon kammade dem och till humöret var hon dyster och sorgbunden </s> \n"
     ]
    }
   ],
   "source": [
    "print(segment_sentences(test_para))"
   ]
  },
  {
   "cell_type": "markdown",
   "metadata": {},
   "source": [
    "Estimate roughly the accuracy of your program."
   ]
  },
  {
   "cell_type": "markdown",
   "metadata": {},
   "source": [
    "#### Tokenizing the corpus"
   ]
  },
  {
   "cell_type": "markdown",
   "metadata": {},
   "source": [
    "Clean and segment the corpus"
   ]
  },
  {
   "cell_type": "code",
   "execution_count": 73,
   "metadata": {},
   "outputs": [
    {
     "data": {
      "text/plain": [
       "'s> hon hade fått större kärlek av sina föräldrar än någon annan han visste och sådan kärlek måste vändas i välsignelse </s> <s> då prästen sade detta kom alla människor att se bort mot klara gulla och de förundrade sig över vad de såg </s> <s> prästens ord tycktes redan ha gått i uppfyllelse </s> <s> där stod klara fina gulleborg ifrån skrolycka hon som var uppkallad efter själva solen vid sina föräldrars grav och lyste som en förklarad </s> <s> hon var likaså vacker som den söndagen då hon gick till kyrkan i den röda klänningen om inte vackrare </s> '"
      ]
     },
     "execution_count": 73,
     "metadata": {},
     "output_type": "execute_result"
    }
   ],
   "source": [
    "# Write your code here\n",
    "segmented_corpus = segment_sentences(corpus)\n",
    "segmented_corpus[-557:]"
   ]
  },
  {
   "cell_type": "markdown",
   "metadata": {},
   "source": [
    "The result should be a normalized text without punctuation signs where all the sentences are delimited with `<s>` and `</s>` tags. The five last lines of the text should look like this."
   ]
  },
  {
   "cell_type": "code",
   "execution_count": 74,
   "metadata": {},
   "outputs": [
    {
     "name": "stdout",
     "output_type": "stream",
     "text": [
      " ord till Klara Gulla. Hon hade fått större kärlek av sina föräldrar än någon annan han visste, och sådan kärlek måste vändas i välsignelse.\n",
      "\n",
      "Då prästen sade detta, kom alla människor att se bort mot Klara Gulla, och de förundrade sig över vad de såg.\n",
      "\n",
      "Prästens ord tycktes redan ha gått i uppfyllelse. Där stod Klara Fina Gulleborg ifrån Skrolycka, hon, som var uppkallad efter själva solen, vid sina föräldrars grav och lyste som en förklarad.\n",
      "\n",
      "Hon var likaså vacker som den söndagen, då hon gick till kyrkan i den röda klänningen, om inte vackrare.\n",
      "\n",
      "\n",
      "\n",
      "\n",
      "\n",
      "\n"
     ]
    }
   ],
   "source": [
    "print(corpus[-557:])"
   ]
  },
  {
   "cell_type": "markdown",
   "metadata": {},
   "source": [
    "You will now create a list of words from your string. You will consider that a space or a carriage return is an item separator"
   ]
  },
  {
   "cell_type": "code",
   "execution_count": 75,
   "metadata": {},
   "outputs": [
    {
     "name": "stdout",
     "output_type": "stream",
     "text": [
      "['<s>', 'hon', 'hade', 'fått', 'större', 'kärlek', 'av', 'sina', 'föräldrar', 'än', 'någon', 'annan', 'han', 'visste', 'och', 'sådan', 'kärlek', 'måste', 'vändas', 'i', 'välsignelse', '</s>', '<s>', 'då', 'prästen', 'sade', 'detta', 'kom', 'alla', 'människor', 'att', 'se', 'bort', 'mot', 'klara', 'gulla', 'och', 'de', 'förundrade', 'sig', 'över', 'vad', 'de', 'såg', '</s>', '<s>', 'prästens', 'ord', 'tycktes', 'redan', 'ha', 'gått', 'i', 'uppfyllelse', '</s>', '<s>', 'där', 'stod', 'klara', 'fina', 'gulleborg', 'ifrån', 'skrolycka', 'hon', 'som', 'var', 'uppkallad', 'efter', 'själva', 'solen', 'vid', 'sina', 'föräldrars', 'grav', 'och', 'lyste', 'som', 'en', 'förklarad', '</s>', '<s>', 'hon', 'var', 'likaså', 'vacker', 'som', 'den', 'söndagen', 'då', 'hon', 'gick', 'till', 'kyrkan', 'i', 'den', 'röda', 'klänningen', 'om', 'inte', 'vackrare', '</s>']\n"
     ]
    }
   ],
   "source": [
    "separated = segmented_corpus.strip().split(\" \")\n",
    "print(separated[-101:])"
   ]
  },
  {
   "cell_type": "markdown",
   "metadata": {},
   "source": [
    "The five last lines of the corpus should like this:"
   ]
  },
  {
   "cell_type": "code",
   "execution_count": 76,
   "metadata": {},
   "outputs": [
    {
     "name": "stdout",
     "output_type": "stream",
     "text": [
      "['Sedan', 'riktade', 'han', 'också', 'ett', 'par', 'ord', 'till', 'Klara', 'Gulla', 'Hon', 'hade', 'fått', 'större', 'kärlek', 'av', 'sina', 'föräldrar', 'än', 'någon', 'annan', 'han', 'visste', 'och', 'sådan', 'kärlek', 'måste', 'vändas', 'i', 'välsignelse', 'Då', 'prästen', 'sade', 'detta', 'kom', 'alla', 'människor', 'att', 'se', 'bort', 'mot', 'Klara', 'Gulla', 'och', 'de', 'förundrade', 'sig', 'över', 'vad', 'de', 'såg', 'Prästens', 'ord', 'tycktes', 'redan', 'ha', 'gått', 'i', 'uppfyllelse', 'Där', 'stod', 'Klara', 'Fina', 'Gulleborg', 'ifrån', 'Skrolycka', 'hon', 'som', 'var', 'uppkallad', 'efter', 'själva', 'solen', 'vid', 'sina', 'föräldrars', 'grav', 'och', 'lyste', 'som', 'en', 'förklarad', 'Hon', 'var', 'likaså', 'vacker', 'som', 'den', 'söndagen', 'då', 'hon', 'gick', 'till', 'kyrkan', 'i', 'den', 'röda', 'klänningen', 'om', 'inte', 'vackrare']\n"
     ]
    }
   ],
   "source": [
    "print(words[-101:])"
   ]
  },
  {
   "cell_type": "markdown",
   "metadata": {},
   "source": [
    "### Counting unigrams and bigrams"
   ]
  },
  {
   "cell_type": "markdown",
   "metadata": {},
   "source": [
    "Read and try programs to compute the frequency of unigrams and bigrams of the training set: [<a\n",
    "            href=\"https://github.com/pnugues/ilppp/tree/master/programs/ch05/python\">Program folder</a>]."
   ]
  },
  {
   "cell_type": "markdown",
   "metadata": {},
   "source": [
    "#### Unigrams"
   ]
  },
  {
   "cell_type": "code",
   "execution_count": 77,
   "metadata": {},
   "outputs": [
    {
     "data": {
      "text/plain": [
       "[('<s>', 58469),\n",
       " ('selma', 52),\n",
       " ('lagerlöf', 269),\n",
       " ('nils', 87),\n",
       " ('holgerssons', 6),\n",
       " ('underbara', 23),\n",
       " ('resa', 317),\n",
       " ('genom', 688),\n",
       " ('sverige', 56),\n",
       " ('</s>', 58470),\n",
       " ('första', 525),\n",
       " ('bandet', 6),\n",
       " ('bokutgåva', 11),\n",
       " ('albert', 15),\n",
       " ('bonniers', 11),\n",
       " ('förlag', 11),\n",
       " ('stockholm', 77),\n",
       " ('1907', 2),\n",
       " ('den', 11621),\n",
       " ('kristliga', 2)]"
      ]
     },
     "execution_count": 77,
     "metadata": {},
     "output_type": "execute_result"
    }
   ],
   "source": [
    "def unigrams(words):\n",
    "    frequency = {}\n",
    "    for i in range(len(words)):\n",
    "        if words[i] in frequency:\n",
    "            frequency[words[i]] += 1\n",
    "        else:\n",
    "            frequency[words[i]] = 1\n",
    "    return frequency\n",
    "fq = unigrams(separated)\n",
    "list(fq.items())[:20]"
   ]
  },
  {
   "cell_type": "markdown",
   "metadata": {},
   "source": [
    "We compute the frequencies."
   ]
  },
  {
   "cell_type": "code",
   "execution_count": 78,
   "metadata": {},
   "outputs": [
    {
     "data": {
      "text/plain": [
       "[('Selma', 50),\n",
       " ('Lagerlöf', 268),\n",
       " ('Nils', 86),\n",
       " ('Holgerssons', 5),\n",
       " ('underbara', 22),\n",
       " ('resa', 313),\n",
       " ('genom', 678),\n",
       " ('Sverige', 55),\n",
       " ('Första', 8),\n",
       " ('bandet', 6),\n",
       " ('Bokutgåva', 11),\n",
       " ('Albert', 14),\n",
       " ('Bonniers', 11),\n",
       " ('förlag', 11),\n",
       " ('Stockholm', 76),\n",
       " ('DEN', 24),\n",
       " ('KRISTLIGA', 1),\n",
       " ('DAGVISAN', 1),\n",
       " ('Den', 1370),\n",
       " ('signade', 3)]"
      ]
     },
     "execution_count": 78,
     "metadata": {},
     "output_type": "execute_result"
    }
   ],
   "source": [
    "frequency = unigrams(words)\n",
    "list(frequency.items())[:20]"
   ]
  },
  {
   "cell_type": "markdown",
   "metadata": {},
   "source": [
    "#### Bigrams"
   ]
  },
  {
   "cell_type": "code",
   "execution_count": 79,
   "metadata": {},
   "outputs": [
    {
     "data": {
      "text/plain": [
       "[(('<s>', 'selma'), 6),\n",
       " (('selma', 'lagerlöf'), 10),\n",
       " (('lagerlöf', 'nils'), 1),\n",
       " (('nils', 'holgerssons'), 6),\n",
       " (('holgerssons', 'underbara'), 4),\n",
       " (('underbara', 'resa'), 4),\n",
       " (('resa', 'genom'), 6),\n",
       " (('genom', 'sverige'), 5),\n",
       " (('sverige', '</s>'), 19),\n",
       " (('</s>', '<s>'), 56713),\n",
       " (('<s>', 'första'), 11),\n",
       " (('första', 'bandet'), 1),\n",
       " (('bandet', 'bokutgåva'), 2),\n",
       " (('bokutgåva', 'albert'), 11),\n",
       " (('albert', 'bonniers'), 11),\n",
       " (('bonniers', 'förlag'), 11),\n",
       " (('förlag', 'stockholm'), 10),\n",
       " (('stockholm', '1907'), 2),\n",
       " (('1907', '</s>'), 2),\n",
       " (('<s>', 'den'), 1355)]"
      ]
     },
     "execution_count": 79,
     "metadata": {},
     "output_type": "execute_result"
    }
   ],
   "source": [
    "def bigrams(words):\n",
    "    bigrams = []\n",
    "    for i in range(len(words) - 1):\n",
    "        bigrams.append((words[i], words[i + 1]))\n",
    "    frequency_bigrams = {}\n",
    "    for i in range(len(words) - 1):\n",
    "        if bigrams[i] in frequency_bigrams:\n",
    "            frequency_bigrams[bigrams[i]] += 1\n",
    "        else:\n",
    "            frequency_bigrams[bigrams[i]] = 1\n",
    "    return frequency_bigrams\n",
    "fq_bi = bigrams(separated)\n",
    "list(fq_bi.items())[:20]"
   ]
  },
  {
   "cell_type": "code",
   "execution_count": 80,
   "metadata": {},
   "outputs": [
    {
     "data": {
      "text/plain": [
       "[(('Selma', 'Lagerlöf'), 9),\n",
       " (('Lagerlöf', 'Nils'), 1),\n",
       " (('Nils', 'Holgerssons'), 5),\n",
       " (('Holgerssons', 'underbara'), 3),\n",
       " (('underbara', 'resa'), 3),\n",
       " (('resa', 'genom'), 5),\n",
       " (('genom', 'Sverige'), 4),\n",
       " (('Sverige', 'Första'), 1),\n",
       " (('Första', 'bandet'), 1),\n",
       " (('bandet', 'Bokutgåva'), 2),\n",
       " (('Bokutgåva', 'Albert'), 11),\n",
       " (('Albert', 'Bonniers'), 11),\n",
       " (('Bonniers', 'förlag'), 11),\n",
       " (('förlag', 'Stockholm'), 11),\n",
       " (('Stockholm', 'DEN'), 1),\n",
       " (('DEN', 'KRISTLIGA'), 1),\n",
       " (('KRISTLIGA', 'DAGVISAN'), 1),\n",
       " (('DAGVISAN', 'Den'), 1),\n",
       " (('Den', 'signade'), 2),\n",
       " (('signade', 'dag'), 2)]"
      ]
     },
     "execution_count": 80,
     "metadata": {},
     "output_type": "execute_result"
    }
   ],
   "source": [
    "frequency_bigrams = bigrams(words)\n",
    "list(frequency_bigrams.items())[:20]"
   ]
  },
  {
   "cell_type": "markdown",
   "metadata": {},
   "source": [
    "In the report, tell what is the possible number of bigrams and their real number? Explain why such a difference. What would be the possible number of 4-grams.\n",
    "\n",
    "Propose a solution to cope with bigrams unseen in the corpus."
   ]
  },
  {
   "cell_type": "markdown",
   "metadata": {},
   "source": [
    "### Computing the likelihood of a sentence"
   ]
  },
  {
   "cell_type": "markdown",
   "metadata": {},
   "source": [
    "#### Unigrams"
   ]
  },
  {
   "cell_type": "markdown",
   "metadata": {},
   "source": [
    "Write a program to compute a sentence's probability using unigrams. You may find useful the dictionaries that we saw in the mutual information program: [<a href=\"https://github.com/pnugues/ilppp/tree/master/programs/ch05/python\">Program folder</a>]. Your function will return the perplexity."
   ]
  },
  {
   "cell_type": "markdown",
   "metadata": {},
   "source": [
    "Your function should print and tabulate the results as in the examples below with the sentence _Det var en gång en katt som hette Nils_."
   ]
  },
  {
   "cell_type": "markdown",
   "metadata": {},
   "source": [
    "```\n",
    "=====================================================\n",
    "wi \t C(wi) \t #words \t P(wi)\n",
    "=====================================================\n",
    "det \t 21108 \t 1041631 \t 0.0202643738521607\n",
    "var \t 12090 \t 1041631 \t 0.01160679741674355\n",
    "en \t 13514 \t 1041631 \t 0.01297388422579589\n",
    "gång \t 1332 \t 1041631 \t 0.001278763784871994\n",
    "en \t 13514 \t 1041631 \t 0.01297388422579589\n",
    "katt \t 16 \t 1041631 \t 1.5360525944408337e-05\n",
    "som \t 16288 \t 1041631 \t 0.015637015411407686\n",
    "hette \t 97 \t 1041631 \t 9.312318853797554e-05\n",
    "nils \t 87 \t 1041631 \t 8.352285982272032e-05\n",
    "</s> \t 59047 \t 1041631 \t 0.056687060964967444\n",
    "=====================================================\n",
    "Prob. unigrams:\t 5.361459667285409e-27\n",
    "Geometric mean prob.: 0.0023600885848765307\n",
    "Entropy rate:\t 8.726943273141258\n",
    "Perplexity:\t 423.71290908655254\n",
    "```"
   ]
  },
  {
   "cell_type": "code",
   "execution_count": 81,
   "metadata": {},
   "outputs": [],
   "source": [
    "def unigram_lm(f, text):\n",
    "    n = len(text)\n",
    "    c_wi = {}\n",
    "    P_wi = {}\n",
    "    wc = 0\n",
    "    for key in f.keys():\n",
    "        wc += f[key]\n",
    "    for word in text:\n",
    "        c = f[word]\n",
    "        c_wi[word] = c\n",
    "        P_wi[word] = c / wc\n",
    "    print(\"=====================================================\\n\")\n",
    "    print(\"wc      C(wi)      #words      P(wi)\\n\")\n",
    "    print(\"=====================================================\\n\")\n",
    "    Prob_Unigrams = 1\n",
    "    for word in text:\n",
    "        print(word + \"      \" + str(c_wi[word]) + \"      \" + str(wc) + \"      \" + str(P_wi[word]) + \"\\n\")\n",
    "        Prob_Unigrams = Prob_Unigrams * P_wi[word]\n",
    "    print(\"=====================================================\\n\")\n",
    "    print(\"Prob. Unigrams: \" + str(Prob_Unigrams))\n",
    "    Geo_mean_p = math.pow(Prob_Unigrams, 1/n)\n",
    "    print(\"Geometric mean Prob.: \" + str(Geo_mean_p))\n",
    "    \n",
    "    H_L = -(1/n)*math.log2(Prob_Unigrams)\n",
    "    print(\"Entropy Rate: \" + str(H_L))\n",
    "    print(\"Perplexity: \" + str(1/Geo_mean_p))\n",
    "    return 1/Geo_mean_p\n",
    "    \n"
   ]
  },
  {
   "cell_type": "code",
   "execution_count": 82,
   "metadata": {},
   "outputs": [
    {
     "data": {
      "text/plain": [
       "['det', 'var', 'en', 'gång', 'en', 'katt', 'som', 'hette', 'nils', '</s>']"
      ]
     },
     "execution_count": 82,
     "metadata": {},
     "output_type": "execute_result"
    }
   ],
   "source": [
    "sentence = 'det var en gång en katt som hette nils </s>'\n",
    "sent_words = sentence.split()\n",
    "sent_words"
   ]
  },
  {
   "cell_type": "code",
   "execution_count": 83,
   "metadata": {},
   "outputs": [
    {
     "name": "stdout",
     "output_type": "stream",
     "text": [
      "=====================================================\n",
      "\n",
      "wc      C(wi)      #words      P(wi)\n",
      "\n",
      "=====================================================\n",
      "\n",
      "det      21104      1040879      0.020275171273510178\n",
      "\n",
      "var      12090      1040879      0.011615182936729437\n",
      "\n",
      "en      13510      1040879      0.012979414514078967\n",
      "\n",
      "gång      1328      1040879      0.001275844742760686\n",
      "\n",
      "en      13510      1040879      0.012979414514078967\n",
      "\n",
      "katt      16      1040879      1.5371623406755253e-05\n",
      "\n",
      "som      16288      1040879      0.015648312628076845\n",
      "\n",
      "hette      97      1040879      9.319046690345372e-05\n",
      "\n",
      "nils      87      1040879      8.358320227423168e-05\n",
      "\n",
      "</s>      58470      1040879      0.05617367628706122\n",
      "\n",
      "=====================================================\n",
      "\n",
      "Prob. Unigrams: 5.327325216987506e-27\n",
      "Geometric mean Prob.: 0.0023585816805888477\n",
      "Entropy Rate: 8.727864720623083\n",
      "Perplexity: 423.9836204232445\n"
     ]
    }
   ],
   "source": [
    "#perplexity_unigrams = unigram_lm(frequency, sent_words)\n",
    "perplexity_unigrams = unigram_lm(unigrams(separated), sent_words)"
   ]
  },
  {
   "cell_type": "code",
   "execution_count": null,
   "metadata": {},
   "outputs": [],
   "source": []
  },
  {
   "cell_type": "code",
   "execution_count": 84,
   "metadata": {},
   "outputs": [
    {
     "data": {
      "text/plain": [
       "423"
      ]
     },
     "execution_count": 84,
     "metadata": {},
     "output_type": "execute_result"
    }
   ],
   "source": [
    "perplexity_unigrams = int(perplexity_unigrams)\n",
    "perplexity_unigrams"
   ]
  },
  {
   "cell_type": "markdown",
   "metadata": {},
   "source": [
    "#### Bigrams"
   ]
  },
  {
   "cell_type": "markdown",
   "metadata": {},
   "source": [
    "Write a program to compute the sentence probability using bigrams. Your function will tabulate and print the results as below. It will return the perplexity."
   ]
  },
  {
   "cell_type": "markdown",
   "metadata": {},
   "source": [
    "```\n",
    "=====================================================\n",
    "wi \t wi+1 \t Ci,i+1 \t C(i) \t P(wi+1|wi)\n",
    "=====================================================\n",
    "<s>\t det \t 5672 \t 59047 \t 0.09605907158704083\n",
    "det \t var \t 3839 \t 21108 \t 0.1818741709304529\n",
    "var \t en \t 712 \t 12090 \t 0.058891645988420185\n",
    "en \t gång \t 706 \t 13514 \t 0.052242119283705785\n",
    "gång \t en \t 20 \t 1332 \t 0.015015015015015015\n",
    "en \t katt \t 6 \t 13514 \t 0.0004439840165754033\n",
    "katt \t som \t 2 \t 16 \t 0.125\n",
    "som \t hette \t 45 \t 16288 \t 0.002762770137524558\n",
    "hette \t nils \t 0 \t 97 \t 0.0 \t *backoff: \t 8.352285982272032e-05\n",
    "nils \t </s> \t 2 \t 87 \t 0.022988505747126436\n",
    "=====================================================\n",
    "Prob. bigrams:\t 2.376007803503683e-19\n",
    "Geometric mean prob.: 0.013727289294133601\n",
    "Entropy rate:\t 6.186809422848149\n",
    "Perplexity:\t 72.84759420254609\n",
    "```"
   ]
  },
  {
   "cell_type": "code",
   "execution_count": 85,
   "metadata": {},
   "outputs": [],
   "source": [
    "def bigram_lm(f, f_b, text): #TODO\n",
    "    n = len(text)\n",
    "    wc = 0\n",
    "    for key in f.keys():\n",
    "        wc += f[key]\n",
    "    \n",
    "    print(\"=====================================================\\n\")\n",
    "    print(\"wi      wi+1      ci,i+1      C(i)      P(wi+1|wi)\\n\")\n",
    "    print(\"=====================================================\\n\")\n",
    "    word0 = \"<s>\"\n",
    "    word1 = text[0]\n",
    "    try:\n",
    "        c_i_ip1 = f_b[(word0, word1)]\n",
    "    except KeyError:\n",
    "        c_i_ip1 = 0\n",
    "    try:    \n",
    "        c_i = f[word0]\n",
    "    except KeyError:\n",
    "        c_i = 0\n",
    "    P_wip1_wi = c_i_ip1/c_i\n",
    "    if (P_wip1_wi != 0.0):\n",
    "            print(f\"{word0}     {word1}       {c_i_ip1}       {c_i}        {P_wip1_wi} \")\n",
    "    else:\n",
    "            Prob_Bigrams = Prob_Bigrams * f[word0]/wc\n",
    "            print(f\"{word0}     {word1}       {c_i_ip1}       {c_i}        {P_wip1_wi} *backoff: {f[word0]/wc} \")\n",
    "    Prob_Bigrams = f[word0]/wc\n",
    "    for i in range(len(text)-1):\n",
    "        word0 = text[i]\n",
    "        word1 = text[i+1]\n",
    "        try:\n",
    "            c_i_ip1 = f_b[(word0, word1)]\n",
    "        except KeyError:\n",
    "            c_i_ip1 = 0\n",
    "        try:    \n",
    "            c_i = f[word0]\n",
    "        except KeyError:\n",
    "            c_i = 0\n",
    "        P_wip1_wi = c_i_ip1/c_i\n",
    "        if (P_wip1_wi != 0.0):\n",
    "            print(f\"{word0}     {word1}       {c_i_ip1}       {c_i}        {P_wip1_wi} \")\n",
    "            Prob_Bigrams = Prob_Bigrams * P_wip1_wi\n",
    "        else:\n",
    "            Prob_Bigrams = Prob_Bigrams * f[word0]/wc\n",
    "            print(f\"{word0}     {word1}       {c_i_ip1}       {c_i}        {P_wip1_wi} *backoff: {f[word0]/wc} \")\n",
    "        \n",
    "    #breakpoint()\n",
    "    \n",
    "    print(\"=====================================================\\n\")\n",
    "    print(\"Prob. Bigrams: \" + str(Prob_Bigrams))\n",
    "    Geo_mean_p = math.pow(Prob_Bigrams, 1/n)\n",
    "    print(\"Geometric mean Prob.: \" + str(Geo_mean_p))\n",
    "    \n",
    "    H_L = -(1/n)*math.log2(Prob_Bigrams)\n",
    "    print(\"Entropy Rate: \" + str(H_L))\n",
    "    print(\"Perplexity: \" + str(1/Geo_mean_p))\n",
    "    \n",
    "    return 1/Geo_mean_p\n",
    "\n",
    "#bigram_lm(unigrams(separated), bigrams(separated), sent_words)\n",
    "#bigram_lm(frequency, frequency_bigrams, sent_words)\n",
    "#frequency\n"
   ]
  },
  {
   "cell_type": "code",
   "execution_count": 86,
   "metadata": {},
   "outputs": [],
   "source": [
    "#unigrams(separated)"
   ]
  },
  {
   "cell_type": "code",
   "execution_count": 87,
   "metadata": {},
   "outputs": [
    {
     "name": "stdout",
     "output_type": "stream",
     "text": [
      "=====================================================\n",
      "\n",
      "wi      wi+1      ci,i+1      C(i)      P(wi+1|wi)\n",
      "\n",
      "=====================================================\n",
      "\n",
      "<s>     det       5565       58469        0.09517864167336537 \n",
      "det     var       3838       21104        0.18186125852918877 \n",
      "var     en       712       12090        0.058891645988420185 \n",
      "en     gång       704       13510        0.052109548482605475 \n",
      "gång     en       20       1328        0.015060240963855422 \n",
      "en     katt       6       13510        0.00044411547002220575 \n",
      "katt     som       2       16        0.125 \n",
      "som     hette       45       16288        0.002762770137524558 \n",
      "hette     nils       0       97        0.0 *backoff: 9.319046690345372e-05 \n",
      "nils     </s>       2       87        0.022988505747126436 \n",
      "=====================================================\n",
      "\n",
      "Prob. Bigrams: 1.551320149485035e-19\n",
      "Geometric mean Prob.: 0.013154372726397044\n",
      "Entropy Rate: 6.248313735348671\n",
      "Perplexity: 76.02034857909169\n"
     ]
    }
   ],
   "source": [
    "#perplexity_bigrams = bigram_lm(frequency, frequency_bigrams, sent_words)\n",
    "perplexity_bigrams = bigram_lm(unigrams(separated), bigrams(separated), sent_words)"
   ]
  },
  {
   "cell_type": "code",
   "execution_count": 88,
   "metadata": {},
   "outputs": [
    {
     "data": {
      "text/plain": [
       "76"
      ]
     },
     "execution_count": 88,
     "metadata": {},
     "output_type": "execute_result"
    }
   ],
   "source": [
    "perplexity_bigrams = int(perplexity_bigrams)\n",
    "perplexity_bigrams"
   ]
  },
  {
   "cell_type": "markdown",
   "metadata": {},
   "source": [
    "In addition to this sentence, _Det var en gång en katt som hette Nils_, write five other sentences that will form your test set and run your programs on them. You will insert them in your report."
   ]
  },
  {
   "cell_type": "markdown",
   "metadata": {},
   "source": [
    "### Online prediction of words"
   ]
  },
  {
   "cell_type": "markdown",
   "metadata": {},
   "source": [
    "You will now carry out an online prediction of words. You will consider two cases:\n",
    "1. Prediction of the current word a user is typing;\n",
    "2. Prediction of the next word.\n",
    "\n",
    "Ideally, you would write a loop that reads the words and apply the models while typing. As the Jupyter labs are not designed for interactive input and output, we will simplify the experimental settings with constant strings at a given time of the input.  \n",
    "\n",
    "We will assume the user is typing the phrase: _Det var en gång_. "
   ]
  },
  {
   "cell_type": "markdown",
   "metadata": {},
   "source": [
    "#### Trigrams"
   ]
  },
  {
   "cell_type": "markdown",
   "metadata": {},
   "source": [
    "To have a more accurate prediction, you will use a trigram counting function. Program this function following the model of your bigram counting function."
   ]
  },
  {
   "cell_type": "code",
   "execution_count": 89,
   "metadata": {},
   "outputs": [
    {
     "data": {
      "text/plain": [
       "[(('Selma', 'Lagerlöf', 'Nils'), 1),\n",
       " (('Lagerlöf', 'Nils', 'Holgerssons'), 1),\n",
       " (('Nils', 'Holgerssons', 'underbara'), 3),\n",
       " (('Holgerssons', 'underbara', 'resa'), 3),\n",
       " (('underbara', 'resa', 'genom'), 3),\n",
       " (('resa', 'genom', 'Sverige'), 3),\n",
       " (('genom', 'Sverige', 'Första'), 1),\n",
       " (('Sverige', 'Första', 'bandet'), 1),\n",
       " (('Första', 'bandet', 'Bokutgåva'), 1),\n",
       " (('bandet', 'Bokutgåva', 'Albert'), 2),\n",
       " (('Bokutgåva', 'Albert', 'Bonniers'), 11),\n",
       " (('Albert', 'Bonniers', 'förlag'), 11),\n",
       " (('Bonniers', 'förlag', 'Stockholm'), 11),\n",
       " (('förlag', 'Stockholm', 'DEN'), 1),\n",
       " (('Stockholm', 'DEN', 'KRISTLIGA'), 1),\n",
       " (('DEN', 'KRISTLIGA', 'DAGVISAN'), 1),\n",
       " (('KRISTLIGA', 'DAGVISAN', 'Den'), 1),\n",
       " (('DAGVISAN', 'Den', 'signade'), 1),\n",
       " (('Den', 'signade', 'dag'), 2),\n",
       " (('signade', 'dag', 'som'), 2)]"
      ]
     },
     "execution_count": 89,
     "metadata": {},
     "output_type": "execute_result"
    }
   ],
   "source": [
    "def trigrams(text): #returns dictionary -> (key, value), key = (str, str, str) , value = ?def bigrams(words):\n",
    "    trigrams = []\n",
    "    for i in range(len(words) - 2):\n",
    "        trigrams.append((words[i], words[i + 1], words[i + 2]))\n",
    "    frequency_trigrams = {}\n",
    "    for i in range(len(words) - 2):\n",
    "        if trigrams[i] in frequency_trigrams:\n",
    "            frequency_trigrams[trigrams[i]] += 1\n",
    "        else:\n",
    "            frequency_trigrams[trigrams[i]] = 1\n",
    "    return frequency_trigrams\n",
    "fq_tr = trigrams(separated)\n",
    "list(fq_tr.items())[:20]"
   ]
  },
  {
   "cell_type": "code",
   "execution_count": 90,
   "metadata": {},
   "outputs": [
    {
     "data": {
      "text/plain": [
       "86"
      ]
     },
     "execution_count": 90,
     "metadata": {},
     "output_type": "execute_result"
    }
   ],
   "source": [
    "frequency_trigrams = trigrams(words)\n",
    "frequency_trigrams[('det', 'var', 'en')]"
   ]
  },
  {
   "cell_type": "markdown",
   "metadata": {},
   "source": [
    "#### Prediction"
   ]
  },
  {
   "cell_type": "markdown",
   "metadata": {},
   "source": [
    "The user starts typing _Det var en gång_. After the 2nd character, your program tries to help the user with suggested words."
   ]
  },
  {
   "cell_type": "code",
   "execution_count": 46,
   "metadata": {},
   "outputs": [
    {
     "data": {
      "text/plain": [
       "'de'"
      ]
     },
     "execution_count": 46,
     "metadata": {},
     "output_type": "execute_result"
    }
   ],
   "source": [
    "starting_text = 'De'.lower()\n",
    "starting_text"
   ]
  },
  {
   "cell_type": "markdown",
   "metadata": {},
   "source": [
    "Write a program to rank the five first candidates at this point. Assign these predictions in a list that you will call `current_word_predictions_1`. Note that you are starting a sentence and you can then use the bigram frequencies. Write a sorting key that will enable you have a deterministic ranking of the words or bigrams with identical frequencies: When two words have the same frequency, you will sort them by alphabetic order. You can do this with a tuple."
   ]
  },
  {
   "cell_type": "code",
   "execution_count": 92,
   "metadata": {},
   "outputs": [],
   "source": [
    "cand_nbr = 5"
   ]
  },
  {
   "cell_type": "code",
   "execution_count": 107,
   "metadata": {},
   "outputs": [
    {
     "data": {
      "text/plain": [
       "[('de', '</s>'),\n",
       " ('de', 'absolut'),\n",
       " ('de', 'adopterade'),\n",
       " ('de', 'af'),\n",
       " ('de', 'affallne'),\n",
       " ('de', 'aflägsnare'),\n",
       " ('de', 'akta'),\n",
       " ('de', 'aldrig'),\n",
       " ('de', 'alla'),\n",
       " ('de', 'alldeles'),\n",
       " ('de', 'allesamman.'),\n",
       " ('de', 'allesammans'),\n",
       " ('de', 'allihop'),\n",
       " ('de', 'allra'),\n",
       " ('de', 'alls'),\n",
       " ('de', 'allt'),\n",
       " ('de', 'allthittills'),\n",
       " ('de', 'alltid'),\n",
       " ('de', 'alltjämt'),\n",
       " ('de', 'alltmer'),\n",
       " ('de', 'alltså'),\n",
       " ('de', 'alomkransade'),\n",
       " ('de', 'amerikanska'),\n",
       " ('de', 'anade'),\n",
       " ('de', 'andan'),\n",
       " ('de', 'andliga'),\n",
       " ('de', 'andra'),\n",
       " ('de', 'andra.'),\n",
       " ('de', 'andras'),\n",
       " ('de', 'anfallit'),\n",
       " ('de', 'anklagas'),\n",
       " ('de', 'ankommande'),\n",
       " ('de', 'anlände'),\n",
       " ('de', 'annars'),\n",
       " ('de', 'annat'),\n",
       " ('de', 'anordna'),\n",
       " ('de', 'anse'),\n",
       " ('de', 'anser'),\n",
       " ('de', 'ansträngda'),\n",
       " ('de', 'ansträngde'),\n",
       " ('de', 'anställde'),\n",
       " ('de', 'ansågo'),\n",
       " ('de', 'antastades'),\n",
       " ('de', 'antogo'),\n",
       " ('de', 'anträdde'),\n",
       " ('de', 'anvisade'),\n",
       " ('de', 'apotekares'),\n",
       " ('de', 'arbeta'),\n",
       " ('de', 'arbetade'),\n",
       " ('de', 'arbetande'),\n",
       " ('de', 'arbetar'),\n",
       " ('de', 'arbetare'),\n",
       " ('de', 'arbetsbrutna'),\n",
       " ('de', 'arga'),\n",
       " ('de', 'arma'),\n",
       " ('de', 'artister'),\n",
       " ('de', 'att'),\n",
       " ('de', 'auktioner'),\n",
       " ('de', 'auktionsbesökande'),\n",
       " ('de', 'av'),\n",
       " ('de', 'avbrända'),\n",
       " ('de', 'avfallna'),\n",
       " ('de', 'avhuggna'),\n",
       " ('de', 'avlidna'),\n",
       " ('de', 'avlägsna'),\n",
       " ('de', 'avlägsnade'),\n",
       " ('de', 'avmejade'),\n",
       " ('de', 'avskedstagande'),\n",
       " ('de', 'avskyvärda'),\n",
       " ('de', 'avslag'),\n",
       " ('de', 'avvisades'),\n",
       " ('de', 'avätna'),\n",
       " ('de', 'bad'),\n",
       " ('de', 'bakade'),\n",
       " ('de', 'baklänges'),\n",
       " ('de', 'bakom'),\n",
       " ('de', 'bakre'),\n",
       " ('de', 'band'),\n",
       " ('de', 'bar'),\n",
       " ('de', 'bara'),\n",
       " ('de', 'barn'),\n",
       " ('de', 'barnen'),\n",
       " ('de', 'barnet'),\n",
       " ('de', 'barska'),\n",
       " ('de', 'bebyggda'),\n",
       " ('de', 'bebåda'),\n",
       " ('de', 'bedja'),\n",
       " ('de', 'bedjande'),\n",
       " ('de', 'bedragnas'),\n",
       " ('de', 'bedrevo'),\n",
       " ('de', 'bedrövade'),\n",
       " ('de', 'bedrövliga'),\n",
       " ('de', 'befattningarna'),\n",
       " ('de', 'befinner'),\n",
       " ('de', 'befunno'),\n",
       " ('de', 'begagnade'),\n",
       " ('de', 'begravt'),\n",
       " ('de', 'begripa'),\n",
       " ('de', 'begrov'),\n",
       " ('de', 'begynna'),\n",
       " ('de', 'begär'),\n",
       " ('de', 'begärde'),\n",
       " ('de', 'begår'),\n",
       " ('de', 'behagade'),\n",
       " ('de', 'behandlade'),\n",
       " ('de', 'behöfde'),\n",
       " ('de', 'behöfva'),\n",
       " ('de', 'behöfvas'),\n",
       " ('de', 'behöfver'),\n",
       " ('de', 'behöllo'),\n",
       " ('de', 'behöva'),\n",
       " ('de', 'behövde'),\n",
       " ('de', 'behöver'),\n",
       " ('de', 'behövs'),\n",
       " ('de', 'bekvämt'),\n",
       " ('de', 'bekymmer'),\n",
       " ('de', 'berga'),\n",
       " ('de', 'bergen'),\n",
       " ('de', 'berättade'),\n",
       " ('de', 'beröm'),\n",
       " ('de', 'berömde'),\n",
       " ('de', 'berövat'),\n",
       " ('de', 'besegrade'),\n",
       " ('de', 'beslöt'),\n",
       " ('de', 'beslöto'),\n",
       " ('de', 'bestod'),\n",
       " ('de', 'bestämde'),\n",
       " ('de', 'besvarade'),\n",
       " ('de', 'besynnerliga'),\n",
       " ('de', 'besökande'),\n",
       " ('de', 'bet'),\n",
       " ('de', 'beto'),\n",
       " ('de', 'betraktade'),\n",
       " ('de', 'betsade'),\n",
       " ('de', 'bett'),\n",
       " ('de', 'betydelsefullt'),\n",
       " ('de', 'beundrade'),\n",
       " ('de', 'bevingade'),\n",
       " ('de', 'bibehöllo'),\n",
       " ('de', 'bidade'),\n",
       " ('de', 'bidande'),\n",
       " ('de', 'bildade'),\n",
       " ('de', 'bilder'),\n",
       " ('de', 'bildhuggare'),\n",
       " ('de', 'bistodo'),\n",
       " ('de', 'bistra'),\n",
       " ('de', 'bistår'),\n",
       " ('de', 'bittra'),\n",
       " ('de', 'bjällerklangen'),\n",
       " ('de', 'bjöd'),\n",
       " ('de', 'bjödo'),\n",
       " ('de', 'björkbevuxna'),\n",
       " ('de', 'bland'),\n",
       " ('de', 'blandat'),\n",
       " ('de', 'blanka'),\n",
       " ('de', 'blefvo'),\n",
       " ('de', 'bleka'),\n",
       " ('de', 'bleknande'),\n",
       " ('de', 'blev'),\n",
       " ('de', 'bleve'),\n",
       " ('de', 'blevo'),\n",
       " ('de', 'bli'),\n",
       " ('de', 'blickade'),\n",
       " ('de', 'blickar'),\n",
       " ('de', 'blickarna'),\n",
       " ('de', 'blida'),\n",
       " ('de', 'blifva'),\n",
       " ('de', 'blifvit'),\n",
       " ('de', 'blinda'),\n",
       " ('de', 'blir'),\n",
       " ('de', 'blivande'),\n",
       " ('de', 'blivit'),\n",
       " ('de', 'blod'),\n",
       " ('de', 'blodsdåd'),\n",
       " ('de', 'blommade'),\n",
       " ('de', 'blommande'),\n",
       " ('de', 'blommor'),\n",
       " ('de', 'blott'),\n",
       " ('de', 'blygdes'),\n",
       " ('de', 'blänkande'),\n",
       " ('de', 'blå'),\n",
       " ('de', 'blåa'),\n",
       " ('de', 'blåmålade'),\n",
       " ('de', 'blånande'),\n",
       " ('de', 'bo'),\n",
       " ('de', 'bodde'),\n",
       " ('de', 'bojor'),\n",
       " ('de', 'borde'),\n",
       " ('de', 'bort'),\n",
       " ('de', 'borta'),\n",
       " ('de', 'bortdragande'),\n",
       " ('de', 'bortdöende'),\n",
       " ('de', 'bortflygande'),\n",
       " ('de', 'bortgående'),\n",
       " ('de', 'bortgångna'),\n",
       " ('de', 'bortledda'),\n",
       " ('de', 'bortresta'),\n",
       " ('de', 'bortrestas'),\n",
       " ('de', 'bosatte'),\n",
       " ('de', 'bott'),\n",
       " ('de', 'bragdrika'),\n",
       " ('de', 'bragte'),\n",
       " ('de', 'branta'),\n",
       " ('de', 'breda'),\n",
       " ('de', 'bredvid'),\n",
       " ('de', 'breven'),\n",
       " ('de', 'bringa'),\n",
       " ('de', 'brinna'),\n",
       " ('de', 'brister'),\n",
       " ('de', 'broderade'),\n",
       " ('de', 'brokiga'),\n",
       " ('de', 'bronshyade'),\n",
       " ('de', 'bropenningar'),\n",
       " ('de', 'brottades'),\n",
       " ('de', 'brottsliga'),\n",
       " ('de', 'bruka'),\n",
       " ('de', 'brukade'),\n",
       " ('de', 'brukar'),\n",
       " ('de', 'bruna'),\n",
       " ('de', 'brunaktiga'),\n",
       " ('de', 'brunbrända'),\n",
       " ('de', 'brusade'),\n",
       " ('de', 'brustna'),\n",
       " ('de', 'brusto'),\n",
       " ('de', 'brutit'),\n",
       " ('de', 'brydde'),\n",
       " ('de', 'bryta'),\n",
       " ('de', 'bråkade'),\n",
       " ('de', 'bröto'),\n",
       " ('de', 'brötos'),\n",
       " ('de', 'bugande'),\n",
       " ('de', 'buktande'),\n",
       " ('de', 'bullrande'),\n",
       " ('de', 'bullrar'),\n",
       " ('de', 'bundna'),\n",
       " ('de', 'bundo'),\n",
       " ('de', 'burit'),\n",
       " ('de', 'buro'),\n",
       " ('de', 'buskiga'),\n",
       " ('de', 'byarna'),\n",
       " ('de', 'byggde'),\n",
       " ('de', 'byggnader'),\n",
       " ('de', 'byggnadsrester'),\n",
       " ('de', 'bägge'),\n",
       " ('de', 'bända'),\n",
       " ('de', 'bänkarna'),\n",
       " ('de', 'bär'),\n",
       " ('de', 'bära'),\n",
       " ('de', 'bärande'),\n",
       " ('de', 'bärgades'),\n",
       " ('de', 'bäst'),\n",
       " ('de', 'bästa'),\n",
       " ('de', 'bättre'),\n",
       " ('de', 'bävade'),\n",
       " ('de', 'bävande'),\n",
       " ('de', 'båda'),\n",
       " ('de', 'både'),\n",
       " ('de', 'bådo'),\n",
       " ('de', 'båtar'),\n",
       " ('de', 'böcker'),\n",
       " ('de', 'böjde'),\n",
       " ('de', 'böner'),\n",
       " ('de', 'böra'),\n",
       " ('de', 'börja'),\n",
       " ('de', 'började'),\n",
       " ('de', 'cementklädda'),\n",
       " ('de', 'cologne'),\n",
       " ('de', 'dagar'),\n",
       " ('de', 'dagarna'),\n",
       " ('de', 'daggstänkta'),\n",
       " ('de', 'dagligen'),\n",
       " ('de', 'dallrande'),\n",
       " ('de', 'dansa'),\n",
       " ('de', 'dansade'),\n",
       " ('de', 'dansande'),\n",
       " ('de', 'dansat'),\n",
       " ('de', 'danska'),\n",
       " ('de', 'danslystna'),\n",
       " ('de', 'darrande'),\n",
       " ('de', 'de'),\n",
       " ('de', 'delade'),\n",
       " ('de', 'dem'),\n",
       " ('de', 'den'),\n",
       " ('de', 'det'),\n",
       " ('de', 'deux'),\n",
       " ('de', 'dikade'),\n",
       " ('de', 'dina'),\n",
       " ('de', 'dit'),\n",
       " ('de', 'djupa'),\n",
       " ('de', 'djupaste'),\n",
       " ('de', 'djur'),\n",
       " ('de', 'djuren'),\n",
       " ('de', 'djurslag'),\n",
       " ('de', 'djärva'),\n",
       " ('de', 'djärvare'),\n",
       " ('de', 'djärvaste'),\n",
       " ('de', 'dock'),\n",
       " ('de', 'doftande'),\n",
       " ('de', 'dogo'),\n",
       " ('de', 'dolde'),\n",
       " ('de', 'don'),\n",
       " ('de', 'dova'),\n",
       " ('de', 'dra'),\n",
       " ('de', 'draga'),\n",
       " ('de', 'dragit'),\n",
       " ('de', 'drar'),\n",
       " ('de', 'drevo'),\n",
       " ('de', 'dricka'),\n",
       " ('de', 'drivor'),\n",
       " ('de', 'drog'),\n",
       " ('de', 'drogo'),\n",
       " ('de', 'druckna'),\n",
       " ('de', 'drucko'),\n",
       " ('de', 'drunkna'),\n",
       " ('de', 'drunknande'),\n",
       " ('de', 'drömma'),\n",
       " ('de', 'dubbla'),\n",
       " ('de', 'duka'),\n",
       " ('de', 'dumma'),\n",
       " ('de', 'dunkla'),\n",
       " ('de', 'dunmjuka'),\n",
       " ('de', 'dyra'),\n",
       " ('de', 'dyrbara'),\n",
       " ('de', 'dystra'),\n",
       " ('de', 'där'),\n",
       " ('de', 'därborta'),\n",
       " ('de', 'däremot'),\n",
       " ('de', 'därför'),\n",
       " ('de', 'därhemma'),\n",
       " ('de', 'därute'),\n",
       " ('de', 'dävna'),\n",
       " ('de', 'då'),\n",
       " ('de', 'dåliga'),\n",
       " ('de', 'dåna'),\n",
       " ('de', 'dånande'),\n",
       " ('de', 'dö'),\n",
       " ('de', 'döda'),\n",
       " ('de', 'dödas'),\n",
       " ('de', 'döde'),\n",
       " ('de', 'dödes'),\n",
       " ('de', 'dödkalla'),\n",
       " ('de', 'döende'),\n",
       " ('de', 'dögo'),\n",
       " ('de', 'döma'),\n",
       " ('de', 'dött'),\n",
       " ('de', 'efter'),\n",
       " ('de', 'efterföljande'),\n",
       " ('de', 'efterkommande'),\n",
       " ('de', 'efterlevande'),\n",
       " ('de', 'eftersom'),\n",
       " ('de', 'efterspana'),\n",
       " ('de', 'eggade'),\n",
       " ('de', 'egna'),\n",
       " ('de', 'ej'),\n",
       " ('de', 'ekvilibristiska'),\n",
       " ('de', 'eleganta'),\n",
       " ('de', 'eljest'),\n",
       " ('de', 'eller'),\n",
       " ('de', 'eländiga'),\n",
       " ('de', 'emellertid'),\n",
       " ('de', 'emot'),\n",
       " ('de', 'en'),\n",
       " ('de', 'ena'),\n",
       " ('de', 'enda'),\n",
       " ('de', 'endast'),\n",
       " ('de', 'engelska'),\n",
       " ('de', 'enkla'),\n",
       " ('de', 'ensamma'),\n",
       " ('de', 'ensliga'),\n",
       " ('de', 'envisa'),\n",
       " ('de', 'erbe'),\n",
       " ('de', 'erik'),\n",
       " ('de', 'ett'),\n",
       " ('de', 'eviga'),\n",
       " ('de', 'evigt'),\n",
       " ('de', 'evinnerliga'),\n",
       " ('de', 'fagra'),\n",
       " ('de', 'falla'),\n",
       " ('de', 'faller'),\n",
       " ('de', 'fallna'),\n",
       " ('de', 'fann'),\n",
       " ('de', 'fanns'),\n",
       " ('de', 'far'),\n",
       " ('de', 'fara'),\n",
       " ('de', 'farit'),\n",
       " ('de', 'farkoster'),\n",
       " ('de', 'farligaste'),\n",
       " ('de', 'faror'),\n",
       " ('de', 'farten'),\n",
       " ('de', 'fartyg'),\n",
       " ('de', 'fast'),\n",
       " ('de', 'fasta'),\n",
       " ('de', 'fastnade'),\n",
       " ('de', 'fastslå'),\n",
       " ('de', 'fattade'),\n",
       " ('de', 'fattiga'),\n",
       " ('de', 'fattigas'),\n",
       " ('de', 'fattigaste'),\n",
       " ('de', 'fattiges'),\n",
       " ('de', 'fem'),\n",
       " ('de', 'femtio'),\n",
       " ('de', 'festen'),\n",
       " ('de', 'festklädda'),\n",
       " ('de', 'feta'),\n",
       " ('de', 'fick'),\n",
       " ('de', 'fina'),\n",
       " ('de', 'finaste'),\n",
       " ('de', 'finge'),\n",
       " ('de', 'fingo'),\n",
       " ('de', 'finna'),\n",
       " ('de', 'finnas'),\n",
       " ('de', 'finns'),\n",
       " ('de', 'firade'),\n",
       " ('de', 'fisklägen'),\n",
       " ('de', 'fjorton'),\n",
       " ('de', 'fjunlika'),\n",
       " ('de', 'fjäll'),\n",
       " ('de', 'fjärilsvingade'),\n",
       " ('de', 'fjättrar'),\n",
       " ('de', 'fladdrade'),\n",
       " ('de', 'fladdrande'),\n",
       " ('de', 'flammade'),\n",
       " ('de', 'flammande'),\n",
       " ('de', 'flata'),\n",
       " ('de', 'flaxade'),\n",
       " ('de', 'flera'),\n",
       " ('de', 'flesta'),\n",
       " ('de', 'flitiga'),\n",
       " ('de', 'flottor'),\n",
       " ('de', 'flugit'),\n",
       " ('de', 'fly'),\n",
       " ('de', 'flyende'),\n",
       " ('de', 'flyger'),\n",
       " ('de', 'flyr'),\n",
       " ('de', 'flyta'),\n",
       " ('de', 'flytta'),\n",
       " ('de', 'flyttade'),\n",
       " ('de', 'flyttfåglar'),\n",
       " ('de', 'flämtande'),\n",
       " ('de', 'flög'),\n",
       " ('de', 'flögo'),\n",
       " ('de', 'flöto'),\n",
       " ('de', 'folianter'),\n",
       " ('de', 'folkuppfyllda'),\n",
       " ('de', 'for'),\n",
       " ('de', 'formlösa'),\n",
       " ('de', 'forna'),\n",
       " ('de', 'foro'),\n",
       " ('de', 'fortfara'),\n",
       " ('de', 'fortforo'),\n",
       " ('de', 'fortsatte'),\n",
       " ('de', 'fortsätta'),\n",
       " ('de', 'fostrade'),\n",
       " ('de', 'fotografierna'),\n",
       " ('de', 'fraktat'),\n",
       " ('de', 'fram'),\n",
       " ('de', 'framför'),\n",
       " ('de', 'framme'),\n",
       " ('de', 'framme.'),\n",
       " ('de', 'frammyllrande'),\n",
       " ('de', 'framskyndande'),\n",
       " ('de', 'framstormande'),\n",
       " ('de', 'framsträckta'),\n",
       " ('de', 'framtrollade'),\n",
       " ('de', 'framåt'),\n",
       " ('de', 'franska'),\n",
       " ('de', 'fredlöse'),\n",
       " ('de', 'fredlöses'),\n",
       " ('de', 'fria'),\n",
       " ('de', 'fridsamme'),\n",
       " ('de', 'frigjorda'),\n",
       " ('de', 'frigöres'),\n",
       " ('de', 'frodiga'),\n",
       " ('de', 'fromma'),\n",
       " ('de', 'frossade'),\n",
       " ('de', 'fru'),\n",
       " ('de', 'frukta'),\n",
       " ('de', 'fruktade'),\n",
       " ('de', 'fruktansvärda'),\n",
       " ('de', 'fruktbärande'),\n",
       " ('de', 'frusna'),\n",
       " ('de', 'främlingar'),\n",
       " ('de', 'främmande'),\n",
       " ('de', 'främsta'),\n",
       " ('de', 'främste'),\n",
       " ('de', 'fråga'),\n",
       " ('de', 'frågade'),\n",
       " ('de', 'frågat'),\n",
       " ('de', 'från'),\n",
       " ('de', 'fula'),\n",
       " ('de', 'fulaste'),\n",
       " ('de', 'fullväxta'),\n",
       " ('de', 'funne'),\n",
       " ('de', 'funnit'),\n",
       " ('de', 'funno'),\n",
       " ('de', 'funnos'),\n",
       " ('de', 'furuklädda'),\n",
       " ('de', 'fyllda'),\n",
       " ('de', 'fyllde'),\n",
       " ('de', 'fyller'),\n",
       " ('de', 'fyra'),\n",
       " ('de', 'fägnades'),\n",
       " ('de', 'fällda'),\n",
       " ('de', 'fällde'),\n",
       " ('de', 'färdades'),\n",
       " ('de', 'färden'),\n",
       " ('de', 'färder'),\n",
       " ('de', 'färdiga'),\n",
       " ('de', 'färdigbyggda'),\n",
       " ('de', 'färgrika'),\n",
       " ('de', 'färgskimrande'),\n",
       " ('de', 'färska'),\n",
       " ('de', 'fäste'),\n",
       " ('de', 'få'),\n",
       " ('de', 'fågelfrie'),\n",
       " ('de', 'fågelskaror'),\n",
       " ('de', 'fåglar'),\n",
       " ('de', 'fångades'),\n",
       " ('de', 'fångar'),\n",
       " ('de', 'fångas'),\n",
       " ('de', 'fångna'),\n",
       " ('de', 'får'),\n",
       " ('de', 'fårade'),\n",
       " ('de', 'fåren'),\n",
       " ('de', 'fåtaliga'),\n",
       " ('de', 'fått'),\n",
       " ('de', 'följa'),\n",
       " ('de', 'följande'),\n",
       " ('de', 'följde'),\n",
       " ('de', 'följderna'),\n",
       " ('de', 'föllo'),\n",
       " ('de', 'för'),\n",
       " ('de', 'föra'),\n",
       " ('de', 'föraktfulla'),\n",
       " ('de', 'föras'),\n",
       " ('de', 'förbi'),\n",
       " ('de', 'förbifärande'),\n",
       " ('de', 'förbigående'),\n",
       " ('de', 'förbiilande'),\n",
       " ('de', 'förbluffade'),\n",
       " ('de', 'förblåsta'),\n",
       " ('de', 'förbättringar'),\n",
       " ('de', 'förde'),\n",
       " ('de', 'fördolde'),\n",
       " ('de', 'fördrivna'),\n",
       " ('de', 'fördömdas'),\n",
       " ('de', 'förebråelser'),\n",
       " ('de', 'föredrag'),\n",
       " ('de', 'föregående'),\n",
       " ('de', 'föregåenden'),\n",
       " ('de', 'företogo'),\n",
       " ('de', 'företrädde'),\n",
       " ('de', 'förfärliga'),\n",
       " ('de', 'förfärligt'),\n",
       " ('de', 'förföljande'),\n",
       " ('de', 'förföljandes'),\n",
       " ('de', 'förklarade'),\n",
       " ('de', 'förkolnade'),\n",
       " ('de', 'förkolnades'),\n",
       " ('de', 'förkrympta'),\n",
       " ('de', 'förlora'),\n",
       " ('de', 'förlorade'),\n",
       " ('de', 'förlovade'),\n",
       " ('de', 'förlägna'),\n",
       " ('de', 'förlåtit'),\n",
       " ('de', 'förmanande'),\n",
       " ('de', 'förmådde'),\n",
       " ('de', 'förmås'),\n",
       " ('de', 'förnummo'),\n",
       " ('de', 'förnäma'),\n",
       " ('de', 'förnämligare'),\n",
       " ('de', 'förnämsta'),\n",
       " ('de', 'förr'),\n",
       " ('de', 'förra'),\n",
       " ('de', 'förrådde'),\n",
       " ('de', 'församlade'),\n",
       " ('de', 'försiktigt'),\n",
       " ('de', 'förskjutna'),\n",
       " ('de', 'förskjutnas'),\n",
       " ('de', 'förskrämda'),\n",
       " ('de', 'försmäda'),\n",
       " ('de', 'försonade'),\n",
       " ('de', 'först'),\n",
       " ('de', 'första'),\n",
       " ('de', 'förstod'),\n",
       " ('de', 'förstodo'),\n",
       " ('de', 'förstog'),\n",
       " ('de', 'förstå'),\n",
       " ('de', 'förstår'),\n",
       " ('de', 'förstås'),\n",
       " ('de', 'förstörde'),\n",
       " ('de', 'försvann'),\n",
       " ('de', 'försvarade'),\n",
       " ('de', 'försvunna'),\n",
       " ('de', 'försöka'),\n",
       " ('de', 'försökte'),\n",
       " ('de', 'försörjde'),\n",
       " ('de', 'fört'),\n",
       " ('de', 'förtjänade'),\n",
       " ('de', 'förtrollade'),\n",
       " ('de', 'förundra'),\n",
       " ('de', 'förundrade'),\n",
       " ('de', 'förut'),\n",
       " ('de', 'förutvarande'),\n",
       " ('de', 'förvildade'),\n",
       " ('de', 'förvirrande'),\n",
       " ('de', 'förvånade'),\n",
       " ('de', 'förvånades'),\n",
       " ('de', 'galejor'),\n",
       " ('de', 'gamla'),\n",
       " ('de', 'gamlas'),\n",
       " ('de', 'gamle'),\n",
       " ('de', 'gamles'),\n",
       " ('de', 'gammalmodiga'),\n",
       " ('de', 'ganska'),\n",
       " ('de', 'gata'),\n",
       " ('de', 'gav'),\n",
       " ('de', 'ge'),\n",
       " ('de', 'genast'),\n",
       " ('de', 'genomsöka'),\n",
       " ('de', 'ger'),\n",
       " ('de', 'gestikulera'),\n",
       " ('de', 'gett'),\n",
       " ('de', 'gick'),\n",
       " ('de', 'gifta'),\n",
       " ('de', 'giftiga'),\n",
       " ('de', 'gifvas'),\n",
       " ('de', 'gingo'),\n",
       " ('de', 'gistna'),\n",
       " ('de', 'givit'),\n",
       " ('de', 'gjorde'),\n",
       " ('de', 'gjort'),\n",
       " ('de', 'glada'),\n",
       " ('de', 'gladde'),\n",
       " ('de', 'gladdes'),\n",
       " ('de', 'glappade'),\n",
       " ('de', 'gledo'),\n",
       " ('de', 'glesa'),\n",
       " ('de', 'glest'),\n",
       " ('de', 'glidande'),\n",
       " ('de', 'glittrande'),\n",
       " ('de', 'glänsande'),\n",
       " ('de', 'glödande'),\n",
       " ('de', 'glömde'),\n",
       " ('de', 'glömma'),\n",
       " ('de', 'glömmer'),\n",
       " ('de', 'gnagde'),\n",
       " ('de', 'gnisslande'),\n",
       " ('de', 'goda'),\n",
       " ('de', 'godmodiga'),\n",
       " ('de', 'gordonska'),\n",
       " ('de', 'granna'),\n",
       " ('de', 'grannaste'),\n",
       " ('de', 'granskogsklädda'),\n",
       " ('de', 'grekiska'),\n",
       " ('de', 'grenar'),\n",
       " ('de', 'grep'),\n",
       " ('de', 'grevekronor'),\n",
       " ('de', 'grina'),\n",
       " ('de', 'grofva'),\n",
       " ('de', 'grova'),\n",
       " ('de', 'grunda'),\n",
       " ('de', 'grymma'),\n",
       " ('de', 'gräddvita'),\n",
       " ('de', 'gräfde'),\n",
       " ('de', 'grälade'),\n",
       " ('de', 'gräsliga'),\n",
       " ('de', 'grät'),\n",
       " ('de', 'gräto'),\n",
       " ('de', 'grävde'),\n",
       " ('de', 'gräver'),\n",
       " ('de', 'grå'),\n",
       " ('de', 'gråa'),\n",
       " ('de', 'gråbleka'),\n",
       " ('de', 'gråtande'),\n",
       " ('de', 'gråterskorna'),\n",
       " ('de', 'gråtit'),\n",
       " ('de', 'gröna'),\n",
       " ('de', 'grönstrimmiga'),\n",
       " ('de', 'gudlöse'),\n",
       " ('de', 'gudomliga'),\n",
       " ('de', 'gula'),\n",
       " ('de', 'guldklädda'),\n",
       " ('de', 'guldskimrande'),\n",
       " ('de', 'gulgråa'),\n",
       " ('de', 'gulnade'),\n",
       " ('de', 'gulrutiga'),\n",
       " ('de', 'gyllene'),\n",
       " ('de', 'gymnastiserade'),\n",
       " ('de', 'gälla'),\n",
       " ('de', 'gärna'),\n",
       " ('de', 'gässen'),\n",
       " ('de', 'gäster'),\n",
       " ('de', 'gästfria'),\n",
       " ('de', 'gå'),\n",
       " ('de', 'gåfvo'),\n",
       " ('de', 'gåfvor'),\n",
       " ('de', 'gångar'),\n",
       " ('de', 'gånger'),\n",
       " ('de', 'gångna'),\n",
       " ('de', 'går'),\n",
       " ('de', 'gårdar'),\n",
       " ('de', 'gått'),\n",
       " ('de', 'gåvo'),\n",
       " ('de', 'gåvor'),\n",
       " ('de', 'gömda'),\n",
       " ('de', 'gömde'),\n",
       " ('de', 'gör'),\n",
       " ('de', 'göra'),\n",
       " ('de', 'ha'),\n",
       " ('de', 'hade'),\n",
       " ('de', 'haft'),\n",
       " ('de', 'hafva'),\n",
       " ('de', 'haka'),\n",
       " ('de', 'hala'),\n",
       " ('de', 'halfvor'),\n",
       " ('de', 'halka'),\n",
       " ('de', 'halvruvade'),\n",
       " ('de', 'halvsprungo'),\n",
       " ('de', 'halvt'),\n",
       " ('de', 'han'),\n",
       " ('de', 'hand'),\n",
       " ('de', 'hann'),\n",
       " ('de', 'hans'),\n",
       " ('de', 'har'),\n",
       " ('de', 'hatar'),\n",
       " ('de', 'hatas'),\n",
       " ('de', 'hava'),\n",
       " ('de', 'hedersplatsen'),\n",
       " ('de', 'hejda'),\n",
       " ('de', 'hejdande'),\n",
       " ('de', 'hela'),\n",
       " ('de', 'heliga'),\n",
       " ('de', 'heligas'),\n",
       " ('de', 'heller'),\n",
       " ('de', 'hellre'),\n",
       " ('de', 'helst'),\n",
       " ('de', 'helt'),\n",
       " ('de', 'hem'),\n",
       " ('de', 'hemma'),\n",
       " ('de', 'hemmavarande'),\n",
       " ('de', 'hemvändande'),\n",
       " ('de', 'henne'),\n",
       " ('de', 'herrar'),\n",
       " ('de', 'herrgårdarna'),\n",
       " ('de', 'heta'),\n",
       " ('de', 'hetsa'),\n",
       " ('de', 'hetsar'),\n",
       " ('de', 'hetsiga'),\n",
       " ('de', 'hette'),\n",
       " ('de', 'himlar'),\n",
       " ('de', 'himmelshöga'),\n",
       " ('de', 'hindrade'),\n",
       " ('de', 'hinner'),\n",
       " ('de', 'hit'),\n",
       " ('de', 'hitkomna'),\n",
       " ('de', 'hittade'),\n",
       " ('de', 'hittar'),\n",
       " ('de', 'hjälper'),\n",
       " ('de', 'hjälplösa'),\n",
       " ('de', 'hjälpte'),\n",
       " ('de', 'hjälptes'),\n",
       " ('de', 'hjärteskakande'),\n",
       " ('de', 'holländska'),\n",
       " ('de', 'holmarna'),\n",
       " ('de', 'honom'),\n",
       " ('de', 'hopknipna'),\n",
       " ('de', 'hoppade'),\n",
       " ('de', 'hoppades'),\n",
       " ('de', 'hoppats'),\n",
       " ('de', 'hopsatta'),\n",
       " ('de', 'hotande'),\n",
       " ('de', 'hovslagen'),\n",
       " ('de', 'hundar'),\n",
       " ('de', 'hundra'),\n",
       " ('de', 'hundraåriga'),\n",
       " ('de', 'hungrande'),\n",
       " ('de', 'hungriga'),\n",
       " ('de', 'hunnit'),\n",
       " ('de', 'hunno'),\n",
       " ('de', 'hur'),\n",
       " ('de', 'hus'),\n",
       " ('de', 'huvudet'),\n",
       " ('de', 'huvun'),\n",
       " ('de', 'hvassa'),\n",
       " ('de', 'hvilka'),\n",
       " ('de', 'hviska'),\n",
       " ('de', 'hvita'),\n",
       " ('de', 'hvitgråa'),\n",
       " ('de', 'hyrt'),\n",
       " ('de', 'hyste'),\n",
       " ('de', 'hädande'),\n",
       " ('de', 'hädanefter'),\n",
       " ('de', 'hädangångna'),\n",
       " ('de', 'häftiga'),\n",
       " ('de', 'hälsa'),\n",
       " ('de', 'hämtade'),\n",
       " ('de', 'hämtar'),\n",
       " ('de', 'hängde'),\n",
       " ('de', 'hänsovna'),\n",
       " ('de', 'här'),\n",
       " ('de', 'härda'),\n",
       " ('de', 'härdiga'),\n",
       " ('de', 'härliga'),\n",
       " ('de', 'härligaste'),\n",
       " ('de', 'härnere'),\n",
       " ('de', 'härnäst'),\n",
       " ('de', 'härstammade'),\n",
       " ('de', 'hästarna'),\n",
       " ('de', 'hålla'),\n",
       " ('de', 'håller'),\n",
       " ('de', 'hållit'),\n",
       " ('de', 'hånande'),\n",
       " ('de', 'hårda'),\n",
       " ('de', 'höga'),\n",
       " ('de', 'högbenta'),\n",
       " ('de', 'högblommiga'),\n",
       " ('de', 'höggo'),\n",
       " ('de', 'högsta'),\n",
       " ('de', 'högstammiga'),\n",
       " ('de', 'högtstående'),\n",
       " ('de', 'högvördiga'),\n",
       " ('de', 'höja'),\n",
       " ('de', 'höjde'),\n",
       " ('de', 'höjder'),\n",
       " ('de', 'höll'),\n",
       " ('de', 'hölle'),\n",
       " ('de', 'höllo'),\n",
       " ('de', 'höllos'),\n",
       " ('de', 'hör'),\n",
       " ('de', 'höra'),\n",
       " ('de', 'hörde'),\n",
       " ('de', 'hördes'),\n",
       " ('de', 'hörsammade'),\n",
       " ('de', 'hört'),\n",
       " ('de', 'hörännen'),\n",
       " ('de', 'i'),\n",
       " ('de', 'ibland'),\n",
       " ('de', 'ifrigaste'),\n",
       " ('de', 'igen'),\n",
       " ('de', 'igenom'),\n",
       " ('de', 'ihop'),\n",
       " ('de', 'ilade'),\n",
       " ('de', 'ilanddrivna'),\n",
       " ('de', 'illa'),\n",
       " ('de', 'illgärningar'),\n",
       " ('de', 'illgärningsmän'),\n",
       " ('de', 'illuminerade'),\n",
       " ('de', 'immade'),\n",
       " ('de', 'in'),\n",
       " ('de', 'inbillade'),\n",
       " ('de', 'inbjudna'),\n",
       " ('de', 'införda'),\n",
       " ('de', 'inga'),\n",
       " ('de', 'ingen'),\n",
       " ('de', 'ingenstädes'),\n",
       " ('de', 'ingenting'),\n",
       " ('de', 'inget'),\n",
       " ('de', 'innersta'),\n",
       " ('de', 'inre'),\n",
       " ('de', 'inrymmes'),\n",
       " ('de', 'inskurna'),\n",
       " ('de', 'insocknes'),\n",
       " ('de', 'instormande'),\n",
       " ('de', 'instängda'),\n",
       " ('de', 'insågo'),\n",
       " ('de', 'inte'),\n",
       " ('de', 'intet'),\n",
       " ('de', 'intill'),\n",
       " ('de', 'intryck'),\n",
       " ('de', 'inträdande'),\n",
       " ('de', 'inträffat'),\n",
       " ('de', 'invanda'),\n",
       " ('de', 'inväfda'),\n",
       " ('de', 'invändningar'),\n",
       " ('de', 'irrade'),\n",
       " ('de', 'ja'),\n",
       " ('de', 'jagade'),\n",
       " ('de', 'jagar'),\n",
       " ('de', 'jordberga'),\n",
       " ('de', 'jordiska'),\n",
       " ('de', 'ju'),\n",
       " ('de', 'jubla'),\n",
       " ('de', 'jublande'),\n",
       " ('de', 'julaftnar'),\n",
       " ('de', 'just'),\n",
       " ('de', 'jämförde'),\n",
       " ('de', 'jämna'),\n",
       " ('de', 'jämnade'),\n",
       " ('de', 'jämnhöga'),\n",
       " ('de', 'jämnstora'),\n",
       " ('de', 'jämra'),\n",
       " ('de', 'jämrade'),\n",
       " ('de', 'jämrar'),\n",
       " ('de', 'jämt'),\n",
       " ('de', 'järn'),\n",
       " ('de', 'järnarmar'),\n",
       " ('de', 'jättelika'),\n",
       " ('de', 'kacklade'),\n",
       " ('de', 'kala'),\n",
       " ('de', 'kalkrappade'),\n",
       " ('de', 'kalla'),\n",
       " ('de', 'kallade'),\n",
       " ('de', 'kallades'),\n",
       " ('de', 'kallar'),\n",
       " ('de', 'kan'),\n",
       " ('de', 'kanske'),\n",
       " ('de', 'kantstötta'),\n",
       " ('de', 'kappades'),\n",
       " ('de', 'karavaner'),\n",
       " ('de', 'karlarna'),\n",
       " ('de', 'kasta'),\n",
       " ('de', 'kastade'),\n",
       " ('de', 'kastas'),\n",
       " ('de', 'kastat'),\n",
       " ('de', 'kavaljerer'),\n",
       " ('de', 'kiselstenar'),\n",
       " ('de', 'kistor'),\n",
       " ('de', 'klaga'),\n",
       " ('de', 'klagade'),\n",
       " ('de', 'klandra'),\n",
       " ('de', 'klappade'),\n",
       " ('de', 'klara'),\n",
       " ('de', 'klargröna'),\n",
       " ('de', 'klarligen'),\n",
       " ('de', 'klevo'),\n",
       " ('de', 'klingade'),\n",
       " ('de', 'klippor'),\n",
       " ('de', 'klippta'),\n",
       " ('de', 'kloka'),\n",
       " ('de', 'klokaste'),\n",
       " ('de', 'klumpiga'),\n",
       " ('de', 'klyftor'),\n",
       " ('de', 'klädde'),\n",
       " ('de', 'kläder'),\n",
       " ('de', 'klängde'),\n",
       " ('de', 'klättrade'),\n",
       " ('de', 'knakade'),\n",
       " ('de', 'knappast'),\n",
       " ('de', 'knappt'),\n",
       " ('de', 'knota'),\n",
       " ('de', 'knotiga'),\n",
       " ('de', 'knutna'),\n",
       " ('de', 'knäbundna'),\n",
       " ('de', 'knäcktes'),\n",
       " ('de', 'knäppa'),\n",
       " ('de', 'knäppte'),\n",
       " ('de', 'knöto'),\n",
       " ('de', 'kolnade'),\n",
       " ('de', 'kom'),\n",
       " ('de', 'komma'),\n",
       " ('de', 'komme'),\n",
       " ('de', 'kommer'),\n",
       " ('de', 'kommit'),\n",
       " ('de', 'kommo'),\n",
       " ('de', 'komna'),\n",
       " ('de', 'konstberidare'),\n",
       " ('de', 'konstnärsfolk'),\n",
       " ('de', 'korgar'),\n",
       " ('de', 'korsfäste'),\n",
       " ('de', 'korta'),\n",
       " ('de', 'kostbaraste'),\n",
       " ('de', 'kraftiga'),\n",
       " ('de', 'kraxade'),\n",
       " ('de', 'krigarsvärd'),\n",
       " ('de', 'krigförande'),\n",
       " ('de', 'kringboende'),\n",
       " ('de', 'kringbyggda'),\n",
       " ('de', 'kringresande'),\n",
       " ('de', 'kringsittande'),\n",
       " ('de', 'kringstående'),\n",
       " ('de', 'kringvälvande'),\n",
       " ('de', 'kristna'),\n",
       " ('de', 'kritisera'),\n",
       " ('de', 'krokben'),\n",
       " ('de', 'krokiga'),\n",
       " ('de', 'krokuddiga'),\n",
       " ('de', 'kroppar'),\n",
       " ('de', 'krossade'),\n",
       " ('de', 'krusade'),\n",
       " ('de', 'krusiga'),\n",
       " ('de', 'kröpo'),\n",
       " ('de', 'kullar'),\n",
       " ('de', 'kullriga'),\n",
       " ('de', 'kulörta'),\n",
       " ('de', 'kunde'),\n",
       " ('de', 'kungliga'),\n",
       " ('de', 'kunna'),\n",
       " ('de', 'kunnat'),\n",
       " ('de', 'kuvade'),\n",
       " ('de', 'kvalmiga'),\n",
       " ('de', 'kvar'),\n",
       " ('de', 'kvickaste'),\n",
       " ('de', 'kvinnfolken'),\n",
       " ('de', 'kvinnliga'),\n",
       " ('de', 'kvinnor'),\n",
       " ('de', 'kvällar'),\n",
       " ('de', 'kvävda'),\n",
       " ('de', 'kyrkfolk'),\n",
       " ('de', 'kyrkobesökande'),\n",
       " ...]"
      ]
     },
     "execution_count": 107,
     "metadata": {},
     "output_type": "execute_result"
    }
   ],
   "source": [
    "def predict1w(st_text):\n",
    "\n",
    "    big = bigrams(separated) \n",
    "    suggestions = set([word for word in big if word[0].startswith(st_text)])\n",
    "    \n",
    "    tmp = sorted(suggestions)\n",
    "    \n",
    "    return tmp\n",
    "\n",
    "current_word_predictions_1 = predict1w(starting_text)\n",
    "current_word_predictions_1"
   ]
  },
  {
   "cell_type": "code",
   "execution_count": null,
   "metadata": {},
   "outputs": [],
   "source": [
    "current_word_predictions_1"
   ]
  },
  {
   "cell_type": "markdown",
   "metadata": {},
   "source": [
    "Let us now suppose that the user has typed: _Det var en_. After detecting a space, your program starts predicting a next possible word."
   ]
  },
  {
   "cell_type": "code",
   "execution_count": null,
   "metadata": {},
   "outputs": [],
   "source": [
    "current_text = \"Det var en \".lower()\n",
    "current_text"
   ]
  },
  {
   "cell_type": "markdown",
   "metadata": {},
   "source": [
    "Tokenize this text and return a list of tokens. Call it `tokens`."
   ]
  },
  {
   "cell_type": "code",
   "execution_count": null,
   "metadata": {},
   "outputs": [],
   "source": [
    "# Write your code here"
   ]
  },
  {
   "cell_type": "code",
   "execution_count": null,
   "metadata": {},
   "outputs": [],
   "source": [
    "tokens"
   ]
  },
  {
   "cell_type": "markdown",
   "metadata": {},
   "source": [
    "Write a program to propose the five next possible words ranked by frequency using a trigram model. Assign these predictions to a variable that you will call `next_word_predictions`. Write a sorting key that will enable you have a deterministic ranking of the words or bigrams with identical frequencies: When two words have the same frequency, you will sort them by alphabetic order. You can do this with a tuple."
   ]
  },
  {
   "cell_type": "code",
   "execution_count": null,
   "metadata": {},
   "outputs": [],
   "source": [
    "# Write your code here"
   ]
  },
  {
   "cell_type": "code",
   "execution_count": null,
   "metadata": {},
   "outputs": [],
   "source": [
    "next_word_predictions"
   ]
  },
  {
   "cell_type": "markdown",
   "metadata": {},
   "source": [
    "Finally, let us suppose that the user has typed _Det var en g_, rank the five possible candidates. Assign these predictions in a list that you will call `current_word_predictions_2`"
   ]
  },
  {
   "cell_type": "code",
   "execution_count": null,
   "metadata": {},
   "outputs": [],
   "source": [
    "current_text = \"Det var en g\".lower()"
   ]
  },
  {
   "cell_type": "code",
   "execution_count": null,
   "metadata": {},
   "outputs": [],
   "source": [
    "# Write your code here"
   ]
  },
  {
   "cell_type": "code",
   "execution_count": null,
   "metadata": {},
   "outputs": [],
   "source": [
    "current_word_predictions_2"
   ]
  },
  {
   "cell_type": "markdown",
   "metadata": {
    "tags": []
   },
   "source": [
    "## Checked answers"
   ]
  },
  {
   "cell_type": "markdown",
   "metadata": {},
   "source": [
    "The automatic marking system will check these answers: `(perplexity_unigrams, perplexity_bigrams, current_word_predictions_1, next_word_predictions, current_word_predictions_2)`"
   ]
  },
  {
   "cell_type": "code",
   "execution_count": null,
   "metadata": {},
   "outputs": [],
   "source": [
    "(perplexity_unigrams, perplexity_bigrams, current_word_predictions_1, next_word_predictions, current_word_predictions_2)"
   ]
  },
  {
   "cell_type": "markdown",
   "metadata": {},
   "source": [
    "## Submission"
   ]
  },
  {
   "cell_type": "markdown",
   "metadata": {},
   "source": [
    "When you have written all the code and run all the cells, fill in your ID and as well as the name of the notebook."
   ]
  },
  {
   "cell_type": "code",
   "execution_count": null,
   "metadata": {},
   "outputs": [],
   "source": [
    "STIL_ID = [\"student1\", \"student2\"] # Write your stil ids as a list\n",
    "CURRENT_NOTEBOOK_PATH = os.path.join(os.getcwd(), \n",
    "                                     \"2-language_models_solution.ipynb\") # Write the name of your notebook"
   ]
  },
  {
   "cell_type": "markdown",
   "metadata": {},
   "source": [
    "The submission code will send your answer. It consists of the perplexities and predictions."
   ]
  },
  {
   "cell_type": "code",
   "execution_count": null,
   "metadata": {},
   "outputs": [],
   "source": [
    "import json\n",
    "ANSWER = json.dumps({'perplexity_unigrams': perplexity_unigrams,\n",
    "                     'perplexity_bigrams': perplexity_bigrams,\n",
    "                     'current_word_predictions_1': current_word_predictions_1,\n",
    "                     'next_word_predictions': next_word_predictions,\n",
    "                     'current_word_predictions_2': current_word_predictions_2})\n",
    "ANSWER"
   ]
  },
  {
   "cell_type": "markdown",
   "metadata": {},
   "source": [
    "The checking script will accept perplexities with a margin, like for instance:\n",
    "```\n",
    "(421, 72, ['det', 'de', 'den', 'detta', 'denna'], ['stor', 'liten', 'gammal', 'god', 'sådan'], ['gammal', 'god', 'gång', 'ganska', 'glädje'])\n",
    "```"
   ]
  },
  {
   "cell_type": "markdown",
   "metadata": {},
   "source": [
    "Now the moment of truth:\n",
    "1. Save your notebook and\n",
    "2. Run the cells below"
   ]
  },
  {
   "cell_type": "code",
   "execution_count": null,
   "metadata": {},
   "outputs": [],
   "source": [
    "SUBMISSION_NOTEBOOK_PATH = CURRENT_NOTEBOOK_PATH + \".submission.bz2\""
   ]
  },
  {
   "cell_type": "code",
   "execution_count": null,
   "metadata": {},
   "outputs": [],
   "source": [
    "ASSIGNMENT = 2\n",
    "API_KEY = \"f581ba347babfea0b8f2c74a3a6776a7\"\n",
    "\n",
    "# Copy and compress current notebook\n",
    "with bz2.open(SUBMISSION_NOTEBOOK_PATH, mode=\"wb\") as fout:\n",
    "    with open(CURRENT_NOTEBOOK_PATH, \"rb\") as fin:\n",
    "        fout.write(fin.read())"
   ]
  },
  {
   "cell_type": "code",
   "execution_count": null,
   "metadata": {},
   "outputs": [],
   "source": [
    "res = requests.post(\"https://vilde.cs.lth.se/edan20checker/submit\", \n",
    "                    files={\"notebook_file\": open(SUBMISSION_NOTEBOOK_PATH, \"rb\")}, \n",
    "                    data={\n",
    "                        \"stil_id\": STIL_ID,\n",
    "                        \"assignment\": ASSIGNMENT,\n",
    "                        \"answer\": ANSWER,\n",
    "                        \"api_key\": API_KEY,\n",
    "                    },\n",
    "                   verify=True)\n",
    "\n",
    "# from IPython.display import display, JSON\n",
    "res.json()"
   ]
  },
  {
   "cell_type": "markdown",
   "metadata": {},
   "source": [
    "## Turning in your assignment"
   ]
  },
  {
   "cell_type": "markdown",
   "metadata": {},
   "source": [
    "Now your are done with the program. To complete this assignment, you will:\n",
    "1. Write a short individual report on your program. Do not forget to include the unigram and bigram tables for five sentences and _Det var en gång en katt som hette Nils_.\n",
    "2. Execute the Jupyter notebook by Peter Norvig here: <a href=\"http://nbviewer.jupyter.org/url/norvig.com/ipython/How%20to%20Do%20Things%20with%20Words.ipynb\">https://nbviewer.jupyter.org/url/norvig.com/ipython/How to Do Things with Words.ipynb</a>. Just run all the cells and be sure that you understand the code. You will find the data here: <a href=\"http://norvig.com/ngrams/\">http://norvig.com/ngrams/</a>.\n",
    "3. In your report, after the description of your program, you will describe one experiment with Norvig's notebook and a long string of words your will create yourself or copy from a text you like. You will remove all the punctuation and white spaces from this string. You will set this string in lowercase letters. You will just add a cell at the end of Sect. 7 in Norvig's notebook, where you will use your string and run the notebook cell with the <tt>segment()</tt> and <tt>segment2()</tt> functions. You will comment the segmentation results you obtain with the unigram and bigram models.\n",
    "\n",
    "Submit your report as well as your notebook (for archiving purposes) to Canvas: https://canvas.education.lu.se/. To write your report, you can either\n",
    "1. Write directly your text in Canvas, or\n",
    "2. Use Latex and Overleaf (www.overleaf.com). This will probably help you structure your text. You will then upload a PDF file in Canvas.\n",
    "\n",
    "The submission deadline is September 24, 2021."
   ]
  },
  {
   "cell_type": "code",
   "execution_count": null,
   "metadata": {},
   "outputs": [],
   "source": []
  }
 ],
 "metadata": {
  "kernelspec": {
   "display_name": "Python 3 (ipykernel)",
   "language": "python",
   "name": "python3"
  },
  "language_info": {
   "codemirror_mode": {
    "name": "ipython",
    "version": 3
   },
   "file_extension": ".py",
   "mimetype": "text/x-python",
   "name": "python",
   "nbconvert_exporter": "python",
   "pygments_lexer": "ipython3",
   "version": "3.9.7"
  }
 },
 "nbformat": 4,
 "nbformat_minor": 4
}
